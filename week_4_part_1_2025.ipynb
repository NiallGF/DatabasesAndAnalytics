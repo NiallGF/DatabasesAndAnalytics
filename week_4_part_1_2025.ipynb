{
  "cells": [
    {
      "cell_type": "markdown",
      "metadata": {
        "id": "view-in-github",
        "colab_type": "text"
      },
      "source": [
        "<a href=\"https://colab.research.google.com/github/NiallGF/DatabasesAndAnalytics/blob/main/week_4_part_1_2025.ipynb\" target=\"_parent\"><img src=\"https://colab.research.google.com/assets/colab-badge.svg\" alt=\"Open In Colab\"/></a>"
      ]
    },
    {
      "cell_type": "code",
      "execution_count": 5,
      "metadata": {
        "colab": {
          "base_uri": "https://localhost:8080/",
          "height": 0
        },
        "id": "SvBmSs37F7YR",
        "outputId": "dc760ac6-4981-4d9c-b2d1-a1dbcce8b785"
      },
      "outputs": [
        {
          "output_type": "stream",
          "name": "stderr",
          "text": [
            "Installing package into ‘/usr/local/lib/R/site-library’\n",
            "(as ‘lib’ is unspecified)\n",
            "\n"
          ]
        }
      ],
      "source": [
        "install.packages(\"RCurl\")"
      ]
    },
    {
      "cell_type": "markdown",
      "source": [
        "**conflicted Package: **\n",
        "The conflicted package helps resolve issues when different packages have functions with the same name. It forces you to specify which package’s function you want to use, preventing conflicts and errors. This ensures your code is clear and precise, avoiding unexpected results when using multiple libraries."
      ],
      "metadata": {
        "id": "L-AOLUJu5eVV"
      }
    },
    {
      "cell_type": "code",
      "execution_count": 6,
      "metadata": {
        "colab": {
          "base_uri": "https://localhost:8080/",
          "height": 0
        },
        "id": "dEClMQGS5wRc",
        "outputId": "befac569-9bbc-4504-aa27-323d923ce093"
      },
      "outputs": [
        {
          "output_type": "stream",
          "name": "stderr",
          "text": [
            "Installing package into ‘/usr/local/lib/R/site-library’\n",
            "(as ‘lib’ is unspecified)\n",
            "\n",
            "Warning message in install.packages(\"conflicted\"):\n",
            "“installation of package ‘conflicted’ had non-zero exit status”\n"
          ]
        }
      ],
      "source": [
        "install.packages(\"conflicted\")\n"
      ]
    },
    {
      "cell_type": "markdown",
      "source": [
        "here"
      ],
      "metadata": {
        "id": "ywL-sVueeXW4"
      }
    },
    {
      "cell_type": "markdown",
      "metadata": {
        "id": "Ji7LmhZZK4dv"
      },
      "source": [
        "Suppose both the dplyr and stats packages have a function named filter(). Without conflicted, if both packages are loaded, R uses the version of filter() from the package that was loaded last. But with conflicted active, trying to use filter() without specifying the package will result in an error."
      ]
    },
    {
      "cell_type": "code",
      "execution_count": 7,
      "metadata": {
        "id": "cVPD5Nlx5zCs"
      },
      "outputs": [],
      "source": [
        "library(conflicted)\n"
      ]
    },
    {
      "cell_type": "markdown",
      "source": [
        "The tidyverse package is a collection of several other R packages, including ggplot2, dplyr, tidyr, readr, purrr, tibble, stringr, forcats, and haven, among others."
      ],
      "metadata": {
        "id": "H0WPYXz5b_23"
      }
    },
    {
      "cell_type": "markdown",
      "source": [
        "Many R packages depend on other packages to function properly. When you install a package, R automatically installs any dependencies required by that package, ensuring that all necessary components are available."
      ],
      "metadata": {
        "id": "oJbWreJibthJ"
      }
    },
    {
      "cell_type": "code",
      "execution_count": 9,
      "metadata": {
        "colab": {
          "base_uri": "https://localhost:8080/",
          "height": 0
        },
        "id": "GrIRRVSgScDl",
        "outputId": "33860d58-0dda-4803-9d90-c6aae5bc2dc0"
      },
      "outputs": [
        {
          "output_type": "stream",
          "name": "stderr",
          "text": [
            "Installing package into ‘/usr/local/lib/R/site-library’\n",
            "(as ‘lib’ is unspecified)\n",
            "\n",
            "── \u001b[1mAttaching core tidyverse packages\u001b[22m ──────────────────────── tidyverse 2.0.0 ──\n",
            "\u001b[32m✔\u001b[39m \u001b[34mdplyr    \u001b[39m 1.1.4     \u001b[32m✔\u001b[39m \u001b[34mreadr    \u001b[39m 2.1.5\n",
            "\u001b[32m✔\u001b[39m \u001b[34mforcats  \u001b[39m 1.0.0     \u001b[32m✔\u001b[39m \u001b[34mstringr  \u001b[39m 1.5.1\n",
            "\u001b[32m✔\u001b[39m \u001b[34mggplot2  \u001b[39m 3.5.1     \u001b[32m✔\u001b[39m \u001b[34mtibble   \u001b[39m 3.2.1\n",
            "\u001b[32m✔\u001b[39m \u001b[34mlubridate\u001b[39m 1.9.4     \u001b[32m✔\u001b[39m \u001b[34mtidyr    \u001b[39m 1.3.1\n",
            "\u001b[32m✔\u001b[39m \u001b[34mpurrr    \u001b[39m 1.0.4     \n"
          ]
        }
      ],
      "source": [
        "# Install tidyverse package if you haven't already\n",
        "install.packages(\"tidyverse\")\n",
        "\n",
        "# Load tidyverse package\n",
        "library(tidyverse)\n"
      ]
    },
    {
      "cell_type": "markdown",
      "metadata": {
        "id": "uCUSE_cL-HwH"
      },
      "source": []
    },
    {
      "cell_type": "markdown",
      "metadata": {
        "id": "jDSpkGUcLN8E"
      },
      "source": [
        "The tidyverse is a collection of R packages designed for data science that share an underlying design philosophy, grammar, and data structures. The tidyverse package includes several key packages like ggplot2 for data visualization, dplyr for data manipulation, tidyr for tidying data, readr for reading data, and more. Installing tidyverse installs all these packages at once, making it a powerful toolset for data analysis and visualization."
      ]
    },
    {
      "cell_type": "code",
      "execution_count": 10,
      "metadata": {
        "colab": {
          "base_uri": "https://localhost:8080/",
          "height": 286
        },
        "id": "Oydi8RaxF_t9",
        "outputId": "7999892d-2030-497b-df01-0c0cf98e9700"
      },
      "outputs": [
        {
          "output_type": "display_data",
          "data": {
            "text/html": [
              "<table class=\"dataframe\">\n",
              "<caption>A data.frame: 6 × 10</caption>\n",
              "<thead>\n",
              "\t<tr><th></th><th scope=col>birthdate</th><th scope=col>age</th><th scope=col>race</th><th scope=col>county</th><th scope=col>id</th><th scope=col>first</th><th scope=col>last</th><th scope=col>earliest_flu_shot_2022</th><th scope=col>patient</th><th scope=col>flu_shot_2022</th></tr>\n",
              "\t<tr><th></th><th scope=col>&lt;chr&gt;</th><th scope=col>&lt;int&gt;</th><th scope=col>&lt;chr&gt;</th><th scope=col>&lt;chr&gt;</th><th scope=col>&lt;chr&gt;</th><th scope=col>&lt;chr&gt;</th><th scope=col>&lt;chr&gt;</th><th scope=col>&lt;chr&gt;</th><th scope=col>&lt;chr&gt;</th><th scope=col>&lt;int&gt;</th></tr>\n",
              "</thead>\n",
              "<tbody>\n",
              "\t<tr><th scope=row>1</th><td>28/04/2022</td><td>0</td><td>white</td><td>Plymouth County  </td><td>b7c5c7af-50b6-3ed2-1be9-2e32fd011f07</td><td>Prudence</td><td>Renner</td><td>NULL            </td><td>NULL                                </td><td>0</td></tr>\n",
              "\t<tr><th scope=row>2</th><td>06/02/2022</td><td>0</td><td>white</td><td>Hampden County   </td><td>182f1e3d-2b30-cee2-c47e-c2ab3ff06241</td><td>Ozie    </td><td>Metz  </td><td>16/10/2022 16:52</td><td>182f1e3d-2b30-cee2-c47e-c2ab3ff06241</td><td>1</td></tr>\n",
              "\t<tr><th scope=row>3</th><td>27/04/2022</td><td>0</td><td>white</td><td>Barnstable County</td><td>a730087f-4179-ff08-acc2-1a4bc14d8ca3</td><td>Pearl   </td><td>Brekke</td><td>NULL            </td><td>NULL                                </td><td>0</td></tr>\n",
              "\t<tr><th scope=row>4</th><td>09/04/2022</td><td>0</td><td>white</td><td>Franklin County  </td><td>e369e14f-eaee-d342-3d2b-55521b9bb387</td><td>Sherron </td><td>Kihn  </td><td>17/12/2022 20:48</td><td>e369e14f-eaee-d342-3d2b-55521b9bb387</td><td>1</td></tr>\n",
              "\t<tr><th scope=row>5</th><td>20/02/2022</td><td>0</td><td>white</td><td>Hampden County   </td><td>5549f83e-1c69-538f-0b80-53b76f46c980</td><td>Ladawn  </td><td>Marks </td><td>28/08/2022 15:17</td><td>5549f83e-1c69-538f-0b80-53b76f46c980</td><td>1</td></tr>\n",
              "\t<tr><th scope=row>6</th><td>03/04/2022</td><td>0</td><td>white</td><td>Worcester County </td><td>3e514191-e605-e857-c67d-17576e890c44</td><td>Lurline </td><td>Marks </td><td>11/12/2022 11:12</td><td>3e514191-e605-e857-c67d-17576e890c44</td><td>1</td></tr>\n",
              "</tbody>\n",
              "</table>\n"
            ],
            "text/markdown": "\nA data.frame: 6 × 10\n\n| <!--/--> | birthdate &lt;chr&gt; | age &lt;int&gt; | race &lt;chr&gt; | county &lt;chr&gt; | id &lt;chr&gt; | first &lt;chr&gt; | last &lt;chr&gt; | earliest_flu_shot_2022 &lt;chr&gt; | patient &lt;chr&gt; | flu_shot_2022 &lt;int&gt; |\n|---|---|---|---|---|---|---|---|---|---|---|\n| 1 | 28/04/2022 | 0 | white | Plymouth County   | b7c5c7af-50b6-3ed2-1be9-2e32fd011f07 | Prudence | Renner | NULL             | NULL                                 | 0 |\n| 2 | 06/02/2022 | 0 | white | Hampden County    | 182f1e3d-2b30-cee2-c47e-c2ab3ff06241 | Ozie     | Metz   | 16/10/2022 16:52 | 182f1e3d-2b30-cee2-c47e-c2ab3ff06241 | 1 |\n| 3 | 27/04/2022 | 0 | white | Barnstable County | a730087f-4179-ff08-acc2-1a4bc14d8ca3 | Pearl    | Brekke | NULL             | NULL                                 | 0 |\n| 4 | 09/04/2022 | 0 | white | Franklin County   | e369e14f-eaee-d342-3d2b-55521b9bb387 | Sherron  | Kihn   | 17/12/2022 20:48 | e369e14f-eaee-d342-3d2b-55521b9bb387 | 1 |\n| 5 | 20/02/2022 | 0 | white | Hampden County    | 5549f83e-1c69-538f-0b80-53b76f46c980 | Ladawn   | Marks  | 28/08/2022 15:17 | 5549f83e-1c69-538f-0b80-53b76f46c980 | 1 |\n| 6 | 03/04/2022 | 0 | white | Worcester County  | 3e514191-e605-e857-c67d-17576e890c44 | Lurline  | Marks  | 11/12/2022 11:12 | 3e514191-e605-e857-c67d-17576e890c44 | 1 |\n\n",
            "text/latex": "A data.frame: 6 × 10\n\\begin{tabular}{r|llllllllll}\n  & birthdate & age & race & county & id & first & last & earliest\\_flu\\_shot\\_2022 & patient & flu\\_shot\\_2022\\\\\n  & <chr> & <int> & <chr> & <chr> & <chr> & <chr> & <chr> & <chr> & <chr> & <int>\\\\\n\\hline\n\t1 & 28/04/2022 & 0 & white & Plymouth County   & b7c5c7af-50b6-3ed2-1be9-2e32fd011f07 & Prudence & Renner & NULL             & NULL                                 & 0\\\\\n\t2 & 06/02/2022 & 0 & white & Hampden County    & 182f1e3d-2b30-cee2-c47e-c2ab3ff06241 & Ozie     & Metz   & 16/10/2022 16:52 & 182f1e3d-2b30-cee2-c47e-c2ab3ff06241 & 1\\\\\n\t3 & 27/04/2022 & 0 & white & Barnstable County & a730087f-4179-ff08-acc2-1a4bc14d8ca3 & Pearl    & Brekke & NULL             & NULL                                 & 0\\\\\n\t4 & 09/04/2022 & 0 & white & Franklin County   & e369e14f-eaee-d342-3d2b-55521b9bb387 & Sherron  & Kihn   & 17/12/2022 20:48 & e369e14f-eaee-d342-3d2b-55521b9bb387 & 1\\\\\n\t5 & 20/02/2022 & 0 & white & Hampden County    & 5549f83e-1c69-538f-0b80-53b76f46c980 & Ladawn   & Marks  & 28/08/2022 15:17 & 5549f83e-1c69-538f-0b80-53b76f46c980 & 1\\\\\n\t6 & 03/04/2022 & 0 & white & Worcester County  & 3e514191-e605-e857-c67d-17576e890c44 & Lurline  & Marks  & 11/12/2022 11:12 & 3e514191-e605-e857-c67d-17576e890c44 & 1\\\\\n\\end{tabular}\n",
            "text/plain": [
              "  birthdate  age race  county            id                                  \n",
              "1 28/04/2022 0   white Plymouth County   b7c5c7af-50b6-3ed2-1be9-2e32fd011f07\n",
              "2 06/02/2022 0   white Hampden County    182f1e3d-2b30-cee2-c47e-c2ab3ff06241\n",
              "3 27/04/2022 0   white Barnstable County a730087f-4179-ff08-acc2-1a4bc14d8ca3\n",
              "4 09/04/2022 0   white Franklin County   e369e14f-eaee-d342-3d2b-55521b9bb387\n",
              "5 20/02/2022 0   white Hampden County    5549f83e-1c69-538f-0b80-53b76f46c980\n",
              "6 03/04/2022 0   white Worcester County  3e514191-e605-e857-c67d-17576e890c44\n",
              "  first    last   earliest_flu_shot_2022 patient                             \n",
              "1 Prudence Renner NULL                   NULL                                \n",
              "2 Ozie     Metz   16/10/2022 16:52       182f1e3d-2b30-cee2-c47e-c2ab3ff06241\n",
              "3 Pearl    Brekke NULL                   NULL                                \n",
              "4 Sherron  Kihn   17/12/2022 20:48       e369e14f-eaee-d342-3d2b-55521b9bb387\n",
              "5 Ladawn   Marks  28/08/2022 15:17       5549f83e-1c69-538f-0b80-53b76f46c980\n",
              "6 Lurline  Marks  11/12/2022 11:12       3e514191-e605-e857-c67d-17576e890c44\n",
              "  flu_shot_2022\n",
              "1 0            \n",
              "2 1            \n",
              "3 0            \n",
              "4 1            \n",
              "5 1            \n",
              "6 1            "
            ]
          },
          "metadata": {}
        }
      ],
      "source": [
        "# Load the RCurl library to handle URL requests\n",
        "library(RCurl)\n",
        "\n",
        "# Retrieve the CSV file from the specified URL\n",
        "x <- getURL(\"https://raw.githubusercontent.com/NiallGF/DatabasesAndAnalytics/refs/heads/main/CSV's/immunizationCorrect.csv\")\n",
        "\n",
        "# Read the CSV content directly from the retrieved text\n",
        "y <- read.csv(text = x)\n",
        "\n",
        "# Display the first few rows of the dataset\n",
        "head(y)"
      ]
    },
    {
      "cell_type": "code",
      "execution_count": 13,
      "metadata": {
        "id": "FLSQiTXOSrPt"
      },
      "outputs": [],
      "source": [
        "# Generate placeholder data for demonstration\n",
        "set.seed(123) # For reproducibility\n",
        "n <- 100 # Number of observations\n",
        "\n",
        "# Generating random numeric data for three variables: x, y, z\n",
        "y <- tibble(\n",
        "  x = rnorm(n),\n",
        "  y = rnorm(n, mean = 2, sd = 1.5),\n",
        "  z = rpois(n, lambda = 3)\n",
        ")\n"
      ]
    },
    {
      "cell_type": "code",
      "execution_count": 14,
      "metadata": {
        "colab": {
          "base_uri": "https://localhost:8080/",
          "height": 0
        },
        "id": "LbaQQYklSzMb",
        "outputId": "de813aa2-8218-4b91-e86f-0bcd11b34526"
      },
      "outputs": [
        {
          "output_type": "stream",
          "name": "stdout",
          "text": [
            "Rows: 100\n",
            "Columns: 3\n",
            "$ x \u001b[3m\u001b[90m<dbl>\u001b[39m\u001b[23m -0.56047565, -0.23017749, 1.55870831, 0.07050839, 0.12928774, 1.7150…\n",
            "$ y \u001b[3m\u001b[90m<dbl>\u001b[39m\u001b[23m 0.9343902, 2.3853256, 1.6299622, 1.4786861, 0.5725721, 1.9324584, 0.…\n",
            "$ z \u001b[3m\u001b[90m<int>\u001b[39m\u001b[23m 7, 1, 5, 3, 2, 3, 4, 1, 2, 4, 2, 5, 2, 3, 2, 1, 6, 2, 3, 0, 3, 3, 3,…\n"
          ]
        }
      ],
      "source": [
        "# Get a brief overview of the dataset's structure\n",
        "glimpse(y)\n"
      ]
    },
    {
      "cell_type": "code",
      "execution_count": 15,
      "metadata": {
        "colab": {
          "base_uri": "https://localhost:8080/",
          "height": 34
        },
        "id": "BJxsRslG81l9",
        "outputId": "7158a635-ce58-4b50-e839-cfea7210bb7c"
      },
      "outputs": [
        {
          "output_type": "display_data",
          "data": {
            "text/html": [
              "<style>\n",
              ".list-inline {list-style: none; margin:0; padding: 0}\n",
              ".list-inline>li {display: inline-block}\n",
              ".list-inline>li:not(:last-child)::after {content: \"\\00b7\"; padding: 0 .5ex}\n",
              "</style>\n",
              "<ol class=list-inline><li>'x'</li><li>'y'</li><li>'z'</li></ol>\n"
            ],
            "text/markdown": "1. 'x'\n2. 'y'\n3. 'z'\n\n\n",
            "text/latex": "\\begin{enumerate*}\n\\item 'x'\n\\item 'y'\n\\item 'z'\n\\end{enumerate*}\n",
            "text/plain": [
              "[1] \"x\" \"y\" \"z\""
            ]
          },
          "metadata": {}
        }
      ],
      "source": [
        "# Check the column names of your dataset\n",
        "names(y)\n",
        "\n",
        "\n"
      ]
    },
    {
      "cell_type": "code",
      "execution_count": 16,
      "metadata": {
        "colab": {
          "base_uri": "https://localhost:8080/",
          "height": 142
        },
        "id": "DcaotRhjS4BA",
        "outputId": "f0dbc77b-5611-48a5-8d26-090fca90bae8"
      },
      "outputs": [
        {
          "output_type": "display_data",
          "data": {
            "text/plain": [
              "       x                  y                 z       \n",
              " Min.   :-2.30917   Min.   :-1.0799   Min.   :0.00  \n",
              " 1st Qu.:-0.49385   1st Qu.: 0.7983   1st Qu.:2.00  \n",
              " Median : 0.06176   Median : 1.6613   Median :3.00  \n",
              " Mean   : 0.09041   Mean   : 1.8387   Mean   :2.99  \n",
              " 3rd Qu.: 0.69182   3rd Qu.: 2.7018   3rd Qu.:4.00  \n",
              " Max.   : 2.18733   Max.   : 6.8616   Max.   :9.00  "
            ]
          },
          "metadata": {}
        }
      ],
      "source": [
        "# Summary statistics for numerical variables\n",
        "summary(y)\n"
      ]
    },
    {
      "cell_type": "code",
      "execution_count": 17,
      "metadata": {
        "colab": {
          "base_uri": "https://localhost:8080/",
          "height": 437
        },
        "id": "7K7Tgt8yS9CP",
        "outputId": "f431f52a-1cf5-4663-edf5-c65ef968f7cb"
      },
      "outputs": [
        {
          "output_type": "display_data",
          "data": {
            "text/plain": [
              "plot without title"
            ],
            "image/png": "[encoded data removed]"
          },
          "metadata": {
            "image/png": {
              "width": 420,
              "height": 420
            }
          }
        }
      ],
      "source": [
        "# Visualize the relationship between variables\n",
        "ggplot(y, aes(x = x, y = y)) +\n",
        "  geom_point() +\n",
        "  labs(title = \"Scatter Plot of x vs. y\", x = \"x\", y = \"y\")\n"
      ]
    },
    {
      "cell_type": "code",
      "execution_count": 18,
      "metadata": {
        "colab": {
          "base_uri": "https://localhost:8080/",
          "height": 437
        },
        "id": "sFS_1KhHljnE",
        "outputId": "50d67051-53e1-430e-a6cf-7488bf4c9e2f"
      },
      "outputs": [
        {
          "output_type": "display_data",
          "data": {
            "text/plain": [
              "plot without title"
            ],
            "image/png": "[encoded data removed]"
          },
          "metadata": {
            "image/png": {
              "width": 420,
              "height": 420
            }
          }
        }
      ],
      "source": [
        "# Creating a bar chart\n",
        "ggplot(y, aes(x = factor(z))) +\n",
        "  geom_bar() +\n",
        "  labs(title = \"New Bar Chart of z\", x = \"z\", y = \"Frequency\")\n"
      ]
    },
    {
      "cell_type": "code",
      "execution_count": 19,
      "metadata": {
        "colab": {
          "base_uri": "https://localhost:8080/",
          "height": 437
        },
        "id": "nLbL0t4flnxo",
        "outputId": "4f98feee-4d3b-44a1-ccff-d73c01fb2cb5"
      },
      "outputs": [
        {
          "output_type": "display_data",
          "data": {
            "text/plain": [
              "plot without title"
            ],
            "image/png": "[encoded data removed]"
          },
          "metadata": {
            "image/png": {
              "width": 420,
              "height": 420
            }
          }
        }
      ],
      "source": [
        "library(dplyr)\n",
        "library(ggplot2)\n",
        "\n",
        "# Generate placeholder data for demonstration\n",
        "set.seed(123) # For reproducibility\n",
        "n <- 100 # Number of observations\n",
        "\n",
        "# Generating random numeric data for three variables: x, y, z\n",
        "data <- tibble(\n",
        "  x = rnorm(n),\n",
        "  y = rnorm(n, mean = 2, sd = 1.5),\n",
        "  z = rpois(n, lambda = 3)\n",
        ")\n",
        "\n",
        "# Then proceed with the rest of your code\n",
        "data %>%\n",
        "  count(z) %>%\n",
        "  ggplot(aes(x = \"\", y = n, fill = factor(z))) +\n",
        "  geom_bar(stat = \"identity\", width = 1) +\n",
        "  coord_polar(\"y\", start = 0) +\n",
        "  labs(title = \"Pie Chart of z\")\n",
        "\n",
        "\n"
      ]
    },
    {
      "cell_type": "code",
      "execution_count": 20,
      "metadata": {
        "colab": {
          "base_uri": "https://localhost:8080/"
        },
        "id": "VBXdl4wETBtq",
        "outputId": "b944a44f-eb97-4c9d-9961-a9372f62fd2f"
      },
      "outputs": [
        {
          "output_type": "stream",
          "name": "stdout",
          "text": [
            "\u001b[90m# A tibble: 1 × 12\u001b[39m\n",
            "  x_mean y_mean z_mean  x_sd  y_sd  z_sd x_min y_min z_min x_max y_max z_max\n",
            "   \u001b[3m\u001b[90m<dbl>\u001b[39m\u001b[23m  \u001b[3m\u001b[90m<dbl>\u001b[39m\u001b[23m  \u001b[3m\u001b[90m<dbl>\u001b[39m\u001b[23m \u001b[3m\u001b[90m<dbl>\u001b[39m\u001b[23m \u001b[3m\u001b[90m<dbl>\u001b[39m\u001b[23m \u001b[3m\u001b[90m<dbl>\u001b[39m\u001b[23m \u001b[3m\u001b[90m<dbl>\u001b[39m\u001b[23m \u001b[3m\u001b[90m<dbl>\u001b[39m\u001b[23m \u001b[3m\u001b[90m<int>\u001b[39m\u001b[23m \u001b[3m\u001b[90m<dbl>\u001b[39m\u001b[23m \u001b[3m\u001b[90m<dbl>\u001b[39m\u001b[23m \u001b[3m\u001b[90m<int>\u001b[39m\u001b[23m\n",
            "\u001b[90m1\u001b[39m 0.090\u001b[4m4\u001b[24m   1.84   2.99 0.913  1.45  1.77 -\u001b[31m2\u001b[39m\u001b[31m.\u001b[39m\u001b[31m31\u001b[39m -\u001b[31m1\u001b[39m\u001b[31m.\u001b[39m\u001b[31m0\u001b[39m\u001b[31m8\u001b[39m     0  2.19  6.86     9\n"
          ]
        }
      ],
      "source": [
        "# Summarize the data\n",
        "summary_y <- data %>%\n",
        "  summarise_all(list(mean = mean, sd = sd, min = min, max = max))\n",
        "print(summary_y)"
      ]
    },
    {
      "cell_type": "code",
      "execution_count": null,
      "metadata": {
        "id": "eNoqJnQBTFzP"
      },
      "outputs": [],
      "source": [
        "# Data transformation (if needed)\n",
        "# For example, creating a new variable or filtering rows\n",
        "transformed_data <- data %>%\n",
        "  dplyr::mutate(new_variable = x * y) %>%\n",
        "  dplyr::filter(z > 2)\n",
        "\n",
        "head(transformed_data)  # Print the first few rows of the transformed data"
      ]
    },
    {
      "cell_type": "markdown",
      "source": [],
      "metadata": {
        "id": "jNxoDf6a9uPG"
      }
    },
    {
      "cell_type": "code",
      "execution_count": null,
      "metadata": {
        "id": "rlAcGG-w8HgL"
      },
      "outputs": [],
      "source": [
        "conflicted::conflict_prefer(\"filter\", \"dplyr\")\n",
        "\n"
      ]
    },
    {
      "cell_type": "code",
      "execution_count": null,
      "metadata": {
        "id": "7cJXfg3YTYdz"
      },
      "outputs": [],
      "source": [
        "# Extracting correlation test results\n",
        "# Example data\n",
        "x <- 1:10\n",
        "y <- rnorm(10)\n",
        "\n",
        "# Perform correlation test\n",
        "cor_test <- cor.test(x, y)\n",
        "\n",
        "# Extracting correlation test results\n",
        "cor_results <- data.frame(\n",
        "  Estimate = cor_test$estimate,\n",
        "  p_value = cor_test$p.value,\n",
        "  Confidence_Interval = paste(cor_test$conf.int[1], cor_test$conf.int[2], sep = \" to \")\n",
        ")\n",
        "\n",
        "# Displaying results as a table\n",
        "print(cor_results)\n",
        "\n"
      ]
    },
    {
      "cell_type": "code",
      "execution_count": null,
      "metadata": {
        "id": "PgHxYoCFTdtT"
      },
      "outputs": [],
      "source": [
        "# Example: Creating a linear model with mtcars dataset\n",
        "lm_model <- lm(mpg ~ wt + hp, data = mtcars)\n",
        "# Summarizing the model and extracting coefficients\n",
        "lm_summary <- coef(summary(lm_model))\n",
        "# Displaying results as a table\n",
        "print(lm_summary)\n",
        "\n"
      ]
    },
    {
      "cell_type": "markdown",
      "metadata": {
        "id": "vhY1VMXOZdCa"
      },
      "source": [
        "Estimate: The estimated coefficients represent the relationship between the predictors and the response variable. For this example, it's around 37.23. For wt (weight) and hp (horsepower), the estimated coefficients are approximately -3.88 and -0.03, respectively.\n",
        "\n",
        "Std. Error: These values indicate the variability of the coefficient estimates. For the intercept, it's about 1.60. For wt and hp, the standard errors are roughly 0.63 and 0.01, respectively.\n",
        "\n",
        "t value: These values show the ratio of the estimated coefficient to its standard error. Higher t-values suggest stronger evidence against the null hypothesis. For the intercept, it's about 23.28. For wt and hp, the t-values are approximately -6.13 and -3.52, respectively.\n",
        "\n",
        "Pr(>|t|): These p-values indicate the probability of observing the calculated t-value if the null hypothesis (no effect of the predictor) is true. All p-values are very small (close to zero), suggesting strong evidence against the null hypothesis.\n",
        "\n",
        "In essence, the output summarizes the strength and significance of the relationships between the predictors (wt and hp) and the response variable (mpg, miles per gallon) in the linear model."
      ]
    },
    {
      "cell_type": "code",
      "execution_count": null,
      "metadata": {
        "id": "FvlIUCDpTi2y"
      },
      "outputs": [],
      "source": [
        "# Sample data - replace this with your actual data loading or creation process\n",
        "train_data <- data.frame(\n",
        "  ID = 1:5,\n",
        "  Feature1 = sample(1:100, 5),\n",
        "  Outcome = sample(c(\"Yes\", \"No\"), 5, replace = TRUE)\n",
        ")\n",
        "\n",
        "test_data <- data.frame(\n",
        "  ID = 6:10,\n",
        "  Feature1 = sample(1:100, 5),\n",
        "  Outcome = sample(c(\"Yes\", \"No\"), 5, replace = TRUE)\n",
        ")\n",
        "\n",
        "\n"
      ]
    },
    {
      "cell_type": "code",
      "execution_count": null,
      "metadata": {
        "id": "xPB2o5Ty3ArT"
      },
      "outputs": [],
      "source": [
        "# Assuming train_data and test_data need to be explicitly cast to data frames\n",
        "train_df <- data.frame(train_data)\n",
        "test_df <- data.frame(test_data)\n"
      ]
    },
    {
      "cell_type": "markdown",
      "source": [
        "The knitr package in R is a powerful tool for dynamic report generation. It allows you to integrate R code with documentation (in formats like HTML, PDF, or Word) so that the code can be executed and the results are directly embedded into the report."
      ],
      "metadata": {
        "id": "zI3C3ZGE59Kl"
      }
    },
    {
      "cell_type": "code",
      "execution_count": null,
      "metadata": {
        "id": "xDZvmD6v3DQb"
      },
      "outputs": [],
      "source": [
        "library(knitr)\n",
        "\n",
        "# Display training set as table\n",
        "cat(\"Training Data:\\n\")\n",
        "kable(head(train_df))\n",
        "\n",
        "# Display testing set as table\n",
        "cat(\"\\nTesting Data:\\n\")\n",
        "kable(head(test_df))\n"
      ]
    },
    {
      "cell_type": "markdown",
      "metadata": {
        "id": "NgsyMZbvFuYH"
      },
      "source": [
        "In the provided code, kable() is used to convert the first few rows of the train_df and test_df data frames into Markdown tables and then passed to cat() for printing."
      ]
    },
    {
      "cell_type": "code",
      "execution_count": null,
      "metadata": {
        "id": "oo6twuAATl9o"
      },
      "outputs": [],
      "source": [
        "# Correct usage with mtcars dataset\n",
        "data(mtcars)\n",
        "fit_model <- lm(mpg ~ wt + hp, data = mtcars)\n",
        "\n",
        "# Summary of the model to check coefficients\n",
        "summary(fit_model)\n",
        "\n",
        "\n"
      ]
    },
    {
      "cell_type": "code",
      "execution_count": null,
      "metadata": {
        "id": "kKIgT6gJ3qSq"
      },
      "outputs": [],
      "source": [
        "names(data) # This will list all column names in your dataset\n"
      ]
    },
    {
      "cell_type": "code",
      "execution_count": null,
      "metadata": {
        "id": "-NHDecCe3sqp"
      },
      "outputs": [],
      "source": [
        "# Check column names in the dataset\n",
        "names(data)\n",
        "\n"
      ]
    },
    {
      "cell_type": "code",
      "execution_count": null,
      "metadata": {
        "id": "5Xl8YSfG4g6E"
      },
      "outputs": [],
      "source": [
        "install.packages(\"dplyr\")\n",
        "library(dplyr)\n",
        "\n",
        "# OR for just tibble, which is a lighter dependency\n",
        "install.packages(\"tibble\")\n",
        "library(tibble)\n"
      ]
    },
    {
      "cell_type": "code",
      "execution_count": null,
      "metadata": {
        "id": "tYBRC93j4kpX"
      },
      "outputs": [],
      "source": [
        "glimpse(data)\n"
      ]
    },
    {
      "cell_type": "code",
      "execution_count": null,
      "metadata": {
        "id": "h-DcAq7O4FzK"
      },
      "outputs": [],
      "source": [
        "# Fit the linear model using the correct column names\n",
        "fit_model <- lm(y ~ x + z, data = data)\n",
        "\n"
      ]
    },
    {
      "cell_type": "code",
      "execution_count": null,
      "metadata": {
        "id": "HembZmlG48Nk"
      },
      "outputs": [],
      "source": [
        "# Fit the linear model with the correct column names\n",
        "fit_model <- lm(y ~ x + z, data = data)\n",
        "\n",
        "# Summary of the model to check coefficients\n",
        "summary(fit_model)\n"
      ]
    },
    {
      "cell_type": "code",
      "execution_count": null,
      "metadata": {
        "id": "RkcpOL4t6dkx"
      },
      "outputs": [],
      "source": [
        "# Check the structure of train_data\n",
        "str(train_data)\n",
        "\n",
        "# Check the structure of test_data\n",
        "str(test_data)\n",
        "\n"
      ]
    },
    {
      "cell_type": "markdown",
      "metadata": {
        "id": "PxlxGrG1eWGr"
      },
      "source": [
        "str() stands for \"structure\" and is used to display the structure of an R object."
      ]
    },
    {
      "cell_type": "code",
      "execution_count": null,
      "metadata": {
        "id": "L6OdGtJBT9cM"
      },
      "outputs": [],
      "source": [
        "# Check the structure of the data used for plotting\n",
        "str(data)\n"
      ]
    },
    {
      "cell_type": "code",
      "execution_count": null,
      "metadata": {
        "id": "t1dmbauwT09n"
      },
      "outputs": [],
      "source": [
        "# Plot the correlation test results as a bar plot\n",
        "barplot(cor_test$estimate, main = \"Correlation Test Results\", names.arg = \"Correlation Coefficient\", ylim = range(c(0, 1)))\n",
        "abline(h = c(-1, 1), lty = 2)\n",
        "\n"
      ]
    },
    {
      "cell_type": "code",
      "execution_count": null,
      "metadata": {
        "id": "H5u4DllxULje"
      },
      "outputs": [],
      "source": [
        "# Fit a linear regression model to predict y using x\n",
        "lm_model <- lm(y ~ x, data = data)\n",
        "\n",
        "# Plot the linear regression model\n",
        "plot(data$x, data$y, main = \"Linear Regression\", xlab = \"x\", ylab = \"y\")\n",
        "abline(lm_model, col = \"red\")\n"
      ]
    },
    {
      "cell_type": "code",
      "execution_count": null,
      "metadata": {
        "id": "MgSzK0lx5LZH"
      },
      "outputs": [],
      "source": [
        "anyNA(train_data$x)\n",
        "anyNA(train_data$y)\n",
        "\n",
        "any(is.infinite(train_data$x))\n",
        "any(is.infinite(train_data$y))\n"
      ]
    },
    {
      "cell_type": "code",
      "execution_count": null,
      "metadata": {
        "id": "YnwepmQQ5Ogb"
      },
      "outputs": [],
      "source": [
        "# Remove observations with missing values\n",
        "train_data <- train_data[complete.cases(train_data), ]\n"
      ]
    },
    {
      "cell_type": "code",
      "execution_count": null,
      "metadata": {
        "id": "j-M3A9Q65Rde"
      },
      "outputs": [],
      "source": [
        "# Train a linear regression model\n",
        "predictive_model <- lm(y ~ x, data = na.omit(train_data))\n",
        "\n",
        "# Plot the training data with the linear regression line\n",
        "with(na.omit(train_data), {\n",
        "  plot(x, y, main = \"Predictive Model - Linear Regression\", xlab = \"x\", ylab = \"y\")\n",
        "  abline(predictive_model, col = \"blue\")\n",
        "})\n",
        "\n"
      ]
    },
    {
      "cell_type": "code",
      "execution_count": null,
      "metadata": {
        "id": "aoypxPXe90nj"
      },
      "outputs": [],
      "source": [
        "# Get a brief overview of the dataset's structure\n",
        "glimpse(data)"
      ]
    },
    {
      "cell_type": "code",
      "execution_count": null,
      "metadata": {
        "id": "I330a_Vd99vC"
      },
      "outputs": [],
      "source": [
        "# Assuming 'predictive_model' is your model and 'data' is your dataset\n",
        "predictions <- predict(predictive_model, newdata = data)\n",
        "\n",
        "# Display the predictions\n",
        "print(predictions)"
      ]
    },
    {
      "cell_type": "code",
      "execution_count": null,
      "metadata": {
        "id": "Dw1qMcSE-Fza"
      },
      "outputs": [],
      "source": [
        "# Assuming 'data' is your dataset\n",
        "# Extracting the actual values from the dataset\n",
        "actual_values <- data$x  # Assuming 'x' contains the actual values\n",
        "\n",
        "# Calculate the squared differences\n",
        "squared_diff <- (actual_values - predictions)^2\n",
        "\n",
        "# Calculate the mean squared error (MSE)\n",
        "mse <- mean(squared_diff, na.rm = TRUE)\n",
        "\n",
        "# Display the MSE\n",
        "print(mse)"
      ]
    },
    {
      "cell_type": "markdown",
      "source": [
        "actual_values <- data$x  # Assuming 'x' contains the actual values\n",
        "\n",
        "This line assumes that your dataset data has a column x, which contains the actual values you are trying to predict. The values of this column are saved in the actual_values vector.\n"
      ],
      "metadata": {
        "id": "5v9r5YgC6cDN"
      }
    },
    {
      "cell_type": "markdown",
      "source": [
        "squared_diff <- (actual_values - predictions)^2\n",
        "\n",
        "The difference between each actual value and its corresponding predicted value is calculated.\n",
        "predictions is a vector containing the predicted values from your model.\n",
        "The difference is squared to eliminate negative values and emphasize larger errors."
      ],
      "metadata": {
        "id": "ALYwrkCB6rs_"
      }
    },
    {
      "cell_type": "markdown",
      "source": [
        "mse <- mean(squared_diff, na.rm = TRUE)\n",
        "\n",
        "\n",
        "The MSE is calculated as the average of the squared differences (squared_diff). The function mean() computes the average, and na.rm = TRUE ensures that missing values (if any) are ignored during the calculation.\n"
      ],
      "metadata": {
        "id": "n1cL3KDV69y0"
      }
    },
    {
      "cell_type": "markdown",
      "source": [
        "The MSE is a measure of the average squared difference between the actual and predicted values. It tells you how far off your predictions are from the actual values, with larger values indicating poorer performance.\n",
        "\n",
        "\n"
      ],
      "metadata": {
        "id": "VTmfZGYG7fq5"
      }
    }
  ],
  "metadata": {
    "colab": {
      "provenance": [],
      "include_colab_link": true
    },
    "kernelspec": {
      "display_name": "R",
      "name": "ir"
    },
    "language_info": {
      "name": "R"
    }
  },
  "nbformat": 4,
  "nbformat_minor": 0
}
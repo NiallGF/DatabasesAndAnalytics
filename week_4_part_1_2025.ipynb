{
  "cells": [
    {
      "cell_type": "markdown",
      "metadata": {
        "id": "view-in-github",
        "colab_type": "text"
      },
      "source": [
        "<a href=\"https://colab.research.google.com/github/NiallGF/DatabasesAndAnalytics/blob/main/week_4_part_1_2025.ipynb\" target=\"_parent\"><img src=\"https://colab.research.google.com/assets/colab-badge.svg\" alt=\"Open In Colab\"/></a>"
      ]
    },
    {
      "cell_type": "code",
      "execution_count": null,
      "metadata": {
        "colab": {
          "base_uri": "https://localhost:8080/"
        },
        "id": "SvBmSs37F7YR",
        "outputId": "c6371104-5a32-4fe5-986a-0b932abfb11a"
      },
      "outputs": [
        {
          "output_type": "stream",
          "name": "stderr",
          "text": [
            "Installing package into ‘/usr/local/lib/R/site-library’\n",
            "(as ‘lib’ is unspecified)\n",
            "\n"
          ]
        }
      ],
      "source": [
        "install.packages(\"RCurl\")"
      ]
    },
    {
      "cell_type": "markdown",
      "source": [
        "**conflicted Package: **\n",
        "The conflicted package helps resolve issues when different packages have functions with the same name. It forces you to specify which package’s function you want to use, preventing conflicts and errors. This ensures your code is clear and precise, avoiding unexpected results when using multiple libraries."
      ],
      "metadata": {
        "id": "L-AOLUJu5eVV"
      }
    },
    {
      "cell_type": "code",
      "execution_count": null,
      "metadata": {
        "colab": {
          "base_uri": "https://localhost:8080/"
        },
        "id": "dEClMQGS5wRc",
        "outputId": "4d8f915b-b4de-4fe4-f84d-9df5a6ded017"
      },
      "outputs": [
        {
          "output_type": "stream",
          "name": "stderr",
          "text": [
            "Installing package into ‘/usr/local/lib/R/site-library’\n",
            "(as ‘lib’ is unspecified)\n",
            "\n"
          ]
        }
      ],
      "source": [
        "install.packages(\"conflicted\")\n"
      ]
    },
    {
      "cell_type": "markdown",
      "source": [
        "here"
      ],
      "metadata": {
        "id": "ywL-sVueeXW4"
      }
    },
    {
      "cell_type": "markdown",
      "metadata": {
        "id": "Ji7LmhZZK4dv"
      },
      "source": [
        "Suppose both the dplyr and stats packages have a function named filter(). Without conflicted, if both packages are loaded, R uses the version of filter() from the package that was loaded last. But with conflicted active, trying to use filter() without specifying the package will result in an error."
      ]
    },
    {
      "cell_type": "code",
      "execution_count": null,
      "metadata": {
        "id": "cVPD5Nlx5zCs"
      },
      "outputs": [],
      "source": [
        "library(conflicted)\n"
      ]
    },
    {
      "cell_type": "markdown",
      "source": [
        "The tidyverse package is a collection of several other R packages, including ggplot2, dplyr, tidyr, readr, purrr, tibble, stringr, forcats, and haven, among others."
      ],
      "metadata": {
        "id": "H0WPYXz5b_23"
      }
    },
    {
      "cell_type": "markdown",
      "source": [
        "Many R packages depend on other packages to function properly. When you install a package, R automatically installs any dependencies required by that package, ensuring that all necessary components are available."
      ],
      "metadata": {
        "id": "oJbWreJibthJ"
      }
    },
    {
      "cell_type": "code",
      "execution_count": null,
      "metadata": {
        "colab": {
          "base_uri": "https://localhost:8080/"
        },
        "id": "GrIRRVSgScDl",
        "outputId": "ada8f80f-e129-4ddb-f361-48fd664bd2fe"
      },
      "outputs": [
        {
          "output_type": "stream",
          "name": "stderr",
          "text": [
            "Installing package into ‘/usr/local/lib/R/site-library’\n",
            "(as ‘lib’ is unspecified)\n",
            "\n"
          ]
        }
      ],
      "source": [
        "# Install tidyverse package if you haven't already\n",
        "install.packages(\"tidyverse\")\n",
        "\n",
        "# Load tidyverse package\n",
        "library(tidyverse)\n"
      ]
    },
    {
      "cell_type": "markdown",
      "metadata": {
        "id": "uCUSE_cL-HwH"
      },
      "source": []
    },
    {
      "cell_type": "markdown",
      "metadata": {
        "id": "jDSpkGUcLN8E"
      },
      "source": [
        "The tidyverse is a collection of R packages designed for data science that share an underlying design philosophy, grammar, and data structures. The tidyverse package includes several key packages like ggplot2 for data visualization, dplyr for data manipulation, tidyr for tidying data, readr for reading data, and more. Installing tidyverse installs all these packages at once, making it a powerful toolset for data analysis and visualization."
      ]
    },
    {
      "cell_type": "code",
      "execution_count": null,
      "metadata": {
        "colab": {
          "base_uri": "https://localhost:8080/",
          "height": 303
        },
        "id": "Oydi8RaxF_t9",
        "outputId": "7ef19858-ada1-4f8a-97a6-5ca207917c90"
      },
      "outputs": [
        {
          "output_type": "display_data",
          "data": {
            "text/html": [
              "<table class=\"dataframe\">\n",
              "<caption>A data.frame: 6 × 12</caption>\n",
              "<thead>\n",
              "\t<tr><th></th><th scope=col>Rank</th><th scope=col>Name</th><th scope=col>Platform</th><th scope=col>Year</th><th scope=col>Genre</th><th scope=col>Publisher</th><th scope=col>NA_Sales</th><th scope=col>EU_Sales</th><th scope=col>JP_Sales</th><th scope=col>Other_Sales</th><th scope=col>Global_Sales</th><th scope=col>Predicted_Global_Sales</th></tr>\n",
              "\t<tr><th></th><th scope=col>&lt;int&gt;</th><th scope=col>&lt;chr&gt;</th><th scope=col>&lt;chr&gt;</th><th scope=col>&lt;chr&gt;</th><th scope=col>&lt;chr&gt;</th><th scope=col>&lt;chr&gt;</th><th scope=col>&lt;dbl&gt;</th><th scope=col>&lt;dbl&gt;</th><th scope=col>&lt;dbl&gt;</th><th scope=col>&lt;dbl&gt;</th><th scope=col>&lt;dbl&gt;</th><th scope=col>&lt;dbl&gt;</th></tr>\n",
              "</thead>\n",
              "<tbody>\n",
              "\t<tr><th scope=row>1</th><td>1</td><td>Wii Sports              </td><td>Wii</td><td>2006</td><td>Sports      </td><td>Nintendo</td><td>41.49</td><td>29.02</td><td> 3.77</td><td>8.46</td><td>82.74</td><td>82.74</td></tr>\n",
              "\t<tr><th scope=row>2</th><td>2</td><td>Super Mario Bros.       </td><td>NES</td><td>1985</td><td>Platform    </td><td>Nintendo</td><td>29.08</td><td> 3.58</td><td> 6.81</td><td>0.77</td><td>40.24</td><td>39.00</td></tr>\n",
              "\t<tr><th scope=row>3</th><td>3</td><td>Mario Kart Wii          </td><td>Wii</td><td>2008</td><td>Racing      </td><td>Nintendo</td><td>15.85</td><td>12.88</td><td> 3.79</td><td>3.31</td><td>35.82</td><td>35.82</td></tr>\n",
              "\t<tr><th scope=row>4</th><td>4</td><td>Wii Sports Resort       </td><td>Wii</td><td>2009</td><td>Sports      </td><td>Nintendo</td><td>15.75</td><td>11.01</td><td> 3.28</td><td>2.96</td><td>33.00</td><td>33.00</td></tr>\n",
              "\t<tr><th scope=row>5</th><td>5</td><td>Pokemon Red/Pokemon Blue</td><td>GB </td><td>1996</td><td>Role-Playing</td><td>Nintendo</td><td>11.27</td><td> 8.89</td><td>10.22</td><td>1.00</td><td>31.37</td><td>31.37</td></tr>\n",
              "\t<tr><th scope=row>6</th><td>6</td><td>Tetris                  </td><td>GB </td><td>1989</td><td>Puzzle      </td><td>Nintendo</td><td>23.20</td><td> 2.26</td><td> 4.22</td><td>0.58</td><td>30.26</td><td>30.26</td></tr>\n",
              "</tbody>\n",
              "</table>\n"
            ],
            "text/markdown": "\nA data.frame: 6 × 12\n\n| <!--/--> | Rank &lt;int&gt; | Name &lt;chr&gt; | Platform &lt;chr&gt; | Year &lt;chr&gt; | Genre &lt;chr&gt; | Publisher &lt;chr&gt; | NA_Sales &lt;dbl&gt; | EU_Sales &lt;dbl&gt; | JP_Sales &lt;dbl&gt; | Other_Sales &lt;dbl&gt; | Global_Sales &lt;dbl&gt; | Predicted_Global_Sales &lt;dbl&gt; |\n|---|---|---|---|---|---|---|---|---|---|---|---|---|\n| 1 | 1 | Wii Sports               | Wii | 2006 | Sports       | Nintendo | 41.49 | 29.02 |  3.77 | 8.46 | 82.74 | 82.74 |\n| 2 | 2 | Super Mario Bros.        | NES | 1985 | Platform     | Nintendo | 29.08 |  3.58 |  6.81 | 0.77 | 40.24 | 39.00 |\n| 3 | 3 | Mario Kart Wii           | Wii | 2008 | Racing       | Nintendo | 15.85 | 12.88 |  3.79 | 3.31 | 35.82 | 35.82 |\n| 4 | 4 | Wii Sports Resort        | Wii | 2009 | Sports       | Nintendo | 15.75 | 11.01 |  3.28 | 2.96 | 33.00 | 33.00 |\n| 5 | 5 | Pokemon Red/Pokemon Blue | GB  | 1996 | Role-Playing | Nintendo | 11.27 |  8.89 | 10.22 | 1.00 | 31.37 | 31.37 |\n| 6 | 6 | Tetris                   | GB  | 1989 | Puzzle       | Nintendo | 23.20 |  2.26 |  4.22 | 0.58 | 30.26 | 30.26 |\n\n",
            "text/latex": "A data.frame: 6 × 12\n\\begin{tabular}{r|llllllllllll}\n  & Rank & Name & Platform & Year & Genre & Publisher & NA\\_Sales & EU\\_Sales & JP\\_Sales & Other\\_Sales & Global\\_Sales & Predicted\\_Global\\_Sales\\\\\n  & <int> & <chr> & <chr> & <chr> & <chr> & <chr> & <dbl> & <dbl> & <dbl> & <dbl> & <dbl> & <dbl>\\\\\n\\hline\n\t1 & 1 & Wii Sports               & Wii & 2006 & Sports       & Nintendo & 41.49 & 29.02 &  3.77 & 8.46 & 82.74 & 82.74\\\\\n\t2 & 2 & Super Mario Bros.        & NES & 1985 & Platform     & Nintendo & 29.08 &  3.58 &  6.81 & 0.77 & 40.24 & 39.00\\\\\n\t3 & 3 & Mario Kart Wii           & Wii & 2008 & Racing       & Nintendo & 15.85 & 12.88 &  3.79 & 3.31 & 35.82 & 35.82\\\\\n\t4 & 4 & Wii Sports Resort        & Wii & 2009 & Sports       & Nintendo & 15.75 & 11.01 &  3.28 & 2.96 & 33.00 & 33.00\\\\\n\t5 & 5 & Pokemon Red/Pokemon Blue & GB  & 1996 & Role-Playing & Nintendo & 11.27 &  8.89 & 10.22 & 1.00 & 31.37 & 31.37\\\\\n\t6 & 6 & Tetris                   & GB  & 1989 & Puzzle       & Nintendo & 23.20 &  2.26 &  4.22 & 0.58 & 30.26 & 30.26\\\\\n\\end{tabular}\n",
            "text/plain": [
              "  Rank Name                     Platform Year Genre        Publisher NA_Sales\n",
              "1 1    Wii Sports               Wii      2006 Sports       Nintendo  41.49   \n",
              "2 2    Super Mario Bros.        NES      1985 Platform     Nintendo  29.08   \n",
              "3 3    Mario Kart Wii           Wii      2008 Racing       Nintendo  15.85   \n",
              "4 4    Wii Sports Resort        Wii      2009 Sports       Nintendo  15.75   \n",
              "5 5    Pokemon Red/Pokemon Blue GB       1996 Role-Playing Nintendo  11.27   \n",
              "6 6    Tetris                   GB       1989 Puzzle       Nintendo  23.20   \n",
              "  EU_Sales JP_Sales Other_Sales Global_Sales Predicted_Global_Sales\n",
              "1 29.02     3.77    8.46        82.74        82.74                 \n",
              "2  3.58     6.81    0.77        40.24        39.00                 \n",
              "3 12.88     3.79    3.31        35.82        35.82                 \n",
              "4 11.01     3.28    2.96        33.00        33.00                 \n",
              "5  8.89    10.22    1.00        31.37        31.37                 \n",
              "6  2.26     4.22    0.58        30.26        30.26                 "
            ]
          },
          "metadata": {}
        }
      ],
      "source": [
        "# Load the RCurl library to handle URL requests\n",
        "library(RCurl)\n",
        "\n",
        "# Retrieve the CSV file from the specified URL\n",
        "x <- getURL(\"https://raw.githubusercontent.com/shidrokh/my-csv-files/main/vgsalesGlobale.csv\")\n",
        "\n",
        "# Read the CSV content directly from the retrieved text\n",
        "y <- read.csv(text = x)\n",
        "\n",
        "# Display the first few rows of the dataset\n",
        "head(y)"
      ]
    },
    {
      "cell_type": "code",
      "execution_count": null,
      "metadata": {
        "id": "FLSQiTXOSrPt"
      },
      "outputs": [],
      "source": [
        "# Generate placeholder data for demonstration\n",
        "set.seed(123) # For reproducibility\n",
        "n <- 100 # Number of observations\n",
        "\n",
        "# Generating random numeric data for three variables: x, y, z\n",
        "y <- tibble(\n",
        "  x = rnorm(n),\n",
        "  y = rnorm(n, mean = 2, sd = 1.5),\n",
        "  z = rpois(n, lambda = 3)\n",
        ")\n"
      ]
    },
    {
      "cell_type": "code",
      "execution_count": null,
      "metadata": {
        "colab": {
          "base_uri": "https://localhost:8080/"
        },
        "id": "LbaQQYklSzMb",
        "outputId": "8776f465-1712-4966-d0d7-41a9c2e6b88e"
      },
      "outputs": [
        {
          "output_type": "stream",
          "name": "stdout",
          "text": [
            "Rows: 100\n",
            "Columns: 3\n",
            "$ x \u001b[3m\u001b[90m<dbl>\u001b[39m\u001b[23m -0.56047565, -0.23017749, 1.55870831, 0.07050839, 0.12928774, 1.7150…\n",
            "$ y \u001b[3m\u001b[90m<dbl>\u001b[39m\u001b[23m 0.9343902, 2.3853256, 1.6299622, 1.4786861, 0.5725721, 1.9324584, 0.…\n",
            "$ z \u001b[3m\u001b[90m<int>\u001b[39m\u001b[23m 7, 1, 5, 3, 2, 3, 4, 1, 2, 4, 2, 5, 2, 3, 2, 1, 6, 2, 3, 0, 3, 3, 3,…\n"
          ]
        }
      ],
      "source": [
        "# Get a brief overview of the dataset's structure\n",
        "glimpse(y)\n"
      ]
    },
    {
      "cell_type": "code",
      "execution_count": null,
      "metadata": {
        "colab": {
          "base_uri": "https://localhost:8080/",
          "height": 34
        },
        "id": "BJxsRslG81l9",
        "outputId": "bf9d1b8e-49a8-4eb5-9e71-c1d3ea2b1081"
      },
      "outputs": [
        {
          "output_type": "display_data",
          "data": {
            "text/html": [
              "<style>\n",
              ".list-inline {list-style: none; margin:0; padding: 0}\n",
              ".list-inline>li {display: inline-block}\n",
              ".list-inline>li:not(:last-child)::after {content: \"\\00b7\"; padding: 0 .5ex}\n",
              "</style>\n",
              "<ol class=list-inline><li>'x'</li><li>'y'</li><li>'z'</li></ol>\n"
            ],
            "text/markdown": "1. 'x'\n2. 'y'\n3. 'z'\n\n\n",
            "text/latex": "\\begin{enumerate*}\n\\item 'x'\n\\item 'y'\n\\item 'z'\n\\end{enumerate*}\n",
            "text/plain": [
              "[1] \"x\" \"y\" \"z\""
            ]
          },
          "metadata": {}
        }
      ],
      "source": [
        "# Check the column names of your dataset\n",
        "names(y)\n",
        "\n",
        "\n"
      ]
    },
    {
      "cell_type": "code",
      "execution_count": null,
      "metadata": {
        "colab": {
          "base_uri": "https://localhost:8080/",
          "height": 138
        },
        "id": "DcaotRhjS4BA",
        "outputId": "7cd29b24-ee9b-432a-d9fb-aac899c23718"
      },
      "outputs": [
        {
          "output_type": "display_data",
          "data": {
            "text/plain": [
              "       x                  y                 z       \n",
              " Min.   :-2.30917   Min.   :-1.0799   Min.   :0.00  \n",
              " 1st Qu.:-0.49385   1st Qu.: 0.7983   1st Qu.:2.00  \n",
              " Median : 0.06176   Median : 1.6613   Median :3.00  \n",
              " Mean   : 0.09041   Mean   : 1.8387   Mean   :2.99  \n",
              " 3rd Qu.: 0.69182   3rd Qu.: 2.7018   3rd Qu.:4.00  \n",
              " Max.   : 2.18733   Max.   : 6.8616   Max.   :9.00  "
            ]
          },
          "metadata": {}
        }
      ],
      "source": [
        "# Summary statistics for numerical variables\n",
        "summary(y)\n"
      ]
    },
    {
      "cell_type": "code",
      "execution_count": null,
      "metadata": {
        "colab": {
          "base_uri": "https://localhost:8080/",
          "height": 437
        },
        "id": "7K7Tgt8yS9CP",
        "outputId": "9a45026f-36b7-47e4-8fe1-b083a6712d38"
      },
      "outputs": [
        {
          "output_type": "display_data",
          "data": {
            "text/plain": [
              "plot without title"
            ],
            "image/png": "[encoded data removed]"
          },
          "metadata": {
            "image/png": {
              "width": 420,
              "height": 420
            }
          }
        }
      ],
      "source": [
        "# Visualize the relationship between variables\n",
        "ggplot(y, aes(x = x, y = y)) +\n",
        "  geom_point() +\n",
        "  labs(title = \"Scatter Plot of x vs. y\", x = \"x\", y = \"y\")\n"
      ]
    },
    {
      "cell_type": "code",
      "execution_count": null,
      "metadata": {
        "colab": {
          "base_uri": "https://localhost:8080/",
          "height": 437
        },
        "id": "sFS_1KhHljnE",
        "outputId": "c432ada7-8ab9-4c95-b367-15b14a6d6476"
      },
      "outputs": [
        {
          "output_type": "display_data",
          "data": {
            "text/plain": [
              "plot without title"
            ],
            "image/png": "[encoded data removed]"
          },
          "metadata": {
            "image/png": {
              "width": 420,
              "height": 420
            }
          }
        }
      ],
      "source": [
        "# Creating a bar chart\n",
        "ggplot(y, aes(x = factor(z))) +\n",
        "  geom_bar() +\n",
        "  labs(title = \"New Bar Chart of z\", x = \"z\", y = \"Frequency\")\n"
      ]
    },
    {
      "cell_type": "code",
      "execution_count": null,
      "metadata": {
        "colab": {
          "base_uri": "https://localhost:8080/",
          "height": 437
        },
        "id": "nLbL0t4flnxo",
        "outputId": "ea482deb-1712-4c7e-f15d-a3b587113029"
      },
      "outputs": [
        {
          "output_type": "display_data",
          "data": {
            "text/plain": [
              "plot without title"
            ],
            "image/png": "[encoded data removed]"
          },
          "metadata": {
            "image/png": {
              "width": 420,
              "height": 420
            }
          }
        }
      ],
      "source": [
        "library(dplyr)\n",
        "library(ggplot2)\n",
        "\n",
        "# Generate placeholder data for demonstration\n",
        "set.seed(123) # For reproducibility\n",
        "n <- 100 # Number of observations\n",
        "\n",
        "# Generating random numeric data for three variables: x, y, z\n",
        "data <- tibble(\n",
        "  x = rnorm(n),\n",
        "  y = rnorm(n, mean = 2, sd = 1.5),\n",
        "  z = rpois(n, lambda = 3)\n",
        ")\n",
        "\n",
        "# Then proceed with the rest of your code\n",
        "data %>%\n",
        "  count(z) %>%\n",
        "  ggplot(aes(x = \"\", y = n, fill = factor(z))) +\n",
        "  geom_bar(stat = \"identity\", width = 1) +\n",
        "  coord_polar(\"y\", start = 0) +\n",
        "  labs(title = \"Pie Chart of z\")\n",
        "\n",
        "\n"
      ]
    },
    {
      "cell_type": "code",
      "execution_count": null,
      "metadata": {
        "colab": {
          "base_uri": "https://localhost:8080/"
        },
        "id": "VBXdl4wETBtq",
        "outputId": "40c7c2a1-8348-441a-9c87-ed281b5fc8f1"
      },
      "outputs": [
        {
          "output_type": "stream",
          "name": "stdout",
          "text": [
            "\u001b[90m# A tibble: 1 × 12\u001b[39m\n",
            "  x_mean y_mean z_mean  x_sd  y_sd  z_sd x_min y_min z_min x_max y_max z_max\n",
            "   \u001b[3m\u001b[90m<dbl>\u001b[39m\u001b[23m  \u001b[3m\u001b[90m<dbl>\u001b[39m\u001b[23m  \u001b[3m\u001b[90m<dbl>\u001b[39m\u001b[23m \u001b[3m\u001b[90m<dbl>\u001b[39m\u001b[23m \u001b[3m\u001b[90m<dbl>\u001b[39m\u001b[23m \u001b[3m\u001b[90m<dbl>\u001b[39m\u001b[23m \u001b[3m\u001b[90m<dbl>\u001b[39m\u001b[23m \u001b[3m\u001b[90m<dbl>\u001b[39m\u001b[23m \u001b[3m\u001b[90m<int>\u001b[39m\u001b[23m \u001b[3m\u001b[90m<dbl>\u001b[39m\u001b[23m \u001b[3m\u001b[90m<dbl>\u001b[39m\u001b[23m \u001b[3m\u001b[90m<int>\u001b[39m\u001b[23m\n",
            "\u001b[90m1\u001b[39m 0.090\u001b[4m4\u001b[24m   1.84   2.99 0.913  1.45  1.77 -\u001b[31m2\u001b[39m\u001b[31m.\u001b[39m\u001b[31m31\u001b[39m -\u001b[31m1\u001b[39m\u001b[31m.\u001b[39m\u001b[31m0\u001b[39m\u001b[31m8\u001b[39m     0  2.19  6.86     9\n"
          ]
        }
      ],
      "source": [
        "# Summarize the data\n",
        "summary_y <- data %>%\n",
        "  summarise_all(list(mean = mean, sd = sd, min = min, max = max))\n",
        "print(summary_y)"
      ]
    },
    {
      "cell_type": "code",
      "execution_count": null,
      "metadata": {
        "colab": {
          "base_uri": "https://localhost:8080/",
          "height": 286
        },
        "id": "eNoqJnQBTFzP",
        "outputId": "af62cd57-b6e7-4c9a-bf15-943317a0b08c"
      },
      "outputs": [
        {
          "output_type": "display_data",
          "data": {
            "text/html": [
              "<table class=\"dataframe\">\n",
              "<caption>A tibble: 6 × 4</caption>\n",
              "<thead>\n",
              "\t<tr><th scope=col>x</th><th scope=col>y</th><th scope=col>z</th><th scope=col>new_variable</th></tr>\n",
              "\t<tr><th scope=col>&lt;dbl&gt;</th><th scope=col>&lt;dbl&gt;</th><th scope=col>&lt;int&gt;</th><th scope=col>&lt;dbl&gt;</th></tr>\n",
              "</thead>\n",
              "<tbody>\n",
              "\t<tr><td>-0.56047565</td><td>0.9343902</td><td>7</td><td>-0.5237029</td></tr>\n",
              "\t<tr><td> 1.55870831</td><td>1.6299622</td><td>5</td><td> 2.5406356</td></tr>\n",
              "\t<tr><td> 0.07050839</td><td>1.4786861</td><td>3</td><td> 0.1042598</td></tr>\n",
              "\t<tr><td> 1.71506499</td><td>1.9324584</td><td>3</td><td> 3.3142918</td></tr>\n",
              "\t<tr><td> 0.46091621</td><td>0.8226433</td><td>4</td><td> 0.3791696</td></tr>\n",
              "\t<tr><td>-0.44566197</td><td>3.3784949</td><td>4</td><td>-1.5056667</td></tr>\n",
              "</tbody>\n",
              "</table>\n"
            ],
            "text/markdown": "\nA tibble: 6 × 4\n\n| x &lt;dbl&gt; | y &lt;dbl&gt; | z &lt;int&gt; | new_variable &lt;dbl&gt; |\n|---|---|---|---|\n| -0.56047565 | 0.9343902 | 7 | -0.5237029 |\n|  1.55870831 | 1.6299622 | 5 |  2.5406356 |\n|  0.07050839 | 1.4786861 | 3 |  0.1042598 |\n|  1.71506499 | 1.9324584 | 3 |  3.3142918 |\n|  0.46091621 | 0.8226433 | 4 |  0.3791696 |\n| -0.44566197 | 3.3784949 | 4 | -1.5056667 |\n\n",
            "text/latex": "A tibble: 6 × 4\n\\begin{tabular}{llll}\n x & y & z & new\\_variable\\\\\n <dbl> & <dbl> & <int> & <dbl>\\\\\n\\hline\n\t -0.56047565 & 0.9343902 & 7 & -0.5237029\\\\\n\t  1.55870831 & 1.6299622 & 5 &  2.5406356\\\\\n\t  0.07050839 & 1.4786861 & 3 &  0.1042598\\\\\n\t  1.71506499 & 1.9324584 & 3 &  3.3142918\\\\\n\t  0.46091621 & 0.8226433 & 4 &  0.3791696\\\\\n\t -0.44566197 & 3.3784949 & 4 & -1.5056667\\\\\n\\end{tabular}\n",
            "text/plain": [
              "  x           y         z new_variable\n",
              "1 -0.56047565 0.9343902 7 -0.5237029  \n",
              "2  1.55870831 1.6299622 5  2.5406356  \n",
              "3  0.07050839 1.4786861 3  0.1042598  \n",
              "4  1.71506499 1.9324584 3  3.3142918  \n",
              "5  0.46091621 0.8226433 4  0.3791696  \n",
              "6 -0.44566197 3.3784949 4 -1.5056667  "
            ]
          },
          "metadata": {}
        }
      ],
      "source": [
        "# Data transformation (if needed)\n",
        "# For example, creating a new variable or filtering rows\n",
        "transformed_data <- data %>%\n",
        "  dplyr::mutate(new_variable = x * y) %>%\n",
        "  dplyr::filter(z > 2)\n",
        "\n",
        "head(transformed_data)  # Print the first few rows of the transformed data"
      ]
    },
    {
      "cell_type": "markdown",
      "source": [],
      "metadata": {
        "id": "jNxoDf6a9uPG"
      }
    },
    {
      "cell_type": "code",
      "execution_count": null,
      "metadata": {
        "colab": {
          "base_uri": "https://localhost:8080/"
        },
        "id": "rlAcGG-w8HgL",
        "outputId": "91fd942e-d3c4-49dc-ad52-b8a265635d5d"
      },
      "outputs": [
        {
          "output_type": "stream",
          "name": "stderr",
          "text": [
            "\u001b[1m\u001b[22m\u001b[90m[conflicted]\u001b[39m Removing existing preference.\n",
            "\u001b[1m\u001b[22m\u001b[90m[conflicted]\u001b[39m Will prefer \u001b[1m\u001b[34mdplyr\u001b[39m\u001b[22m::filter over any other package.\n"
          ]
        }
      ],
      "source": [
        "conflicted::conflict_prefer(\"filter\", \"dplyr\")\n",
        "\n"
      ]
    },
    {
      "cell_type": "code",
      "execution_count": null,
      "metadata": {
        "colab": {
          "base_uri": "https://localhost:8080/"
        },
        "id": "7cJXfg3YTYdz",
        "outputId": "95e1513d-8c4e-4c37-aa73-7a118c8a51b7"
      },
      "outputs": [
        {
          "output_type": "stream",
          "name": "stdout",
          "text": [
            "       Estimate   p_value                     Confidence_Interval\n",
            "cor -0.02322087 0.9492317 -0.643439779903906 to 0.615402908569425\n"
          ]
        }
      ],
      "source": [
        "# Extracting correlation test results\n",
        "# Example data\n",
        "x <- 1:10\n",
        "y <- rnorm(10)\n",
        "\n",
        "# Perform correlation test\n",
        "cor_test <- cor.test(x, y)\n",
        "\n",
        "# Extracting correlation test results\n",
        "cor_results <- data.frame(\n",
        "  Estimate = cor_test$estimate,\n",
        "  p_value = cor_test$p.value,\n",
        "  Confidence_Interval = paste(cor_test$conf.int[1], cor_test$conf.int[2], sep = \" to \")\n",
        ")\n",
        "\n",
        "# Displaying results as a table\n",
        "print(cor_results)\n",
        "\n"
      ]
    },
    {
      "cell_type": "code",
      "execution_count": null,
      "metadata": {
        "colab": {
          "base_uri": "https://localhost:8080/"
        },
        "id": "PgHxYoCFTdtT",
        "outputId": "0bfc2021-e317-4d5f-d6bc-3978b09812f3"
      },
      "outputs": [
        {
          "output_type": "stream",
          "name": "stdout",
          "text": [
            "               Estimate Std. Error   t value     Pr(>|t|)\n",
            "(Intercept) 37.22727012 1.59878754 23.284689 2.565459e-20\n",
            "wt          -3.87783074 0.63273349 -6.128695 1.119647e-06\n",
            "hp          -0.03177295 0.00902971 -3.518712 1.451229e-03\n"
          ]
        }
      ],
      "source": [
        "# Example: Creating a linear model with mtcars dataset\n",
        "lm_model <- lm(mpg ~ wt + hp, data = mtcars)\n",
        "# Summarizing the model and extracting coefficients\n",
        "lm_summary <- coef(summary(lm_model))\n",
        "# Displaying results as a table\n",
        "print(lm_summary)\n",
        "\n"
      ]
    },
    {
      "cell_type": "markdown",
      "metadata": {
        "id": "vhY1VMXOZdCa"
      },
      "source": [
        "Estimate: The estimated coefficients represent the relationship between the predictors and the response variable. For this example, it's around 37.23. For wt (weight) and hp (horsepower), the estimated coefficients are approximately -3.88 and -0.03, respectively.\n",
        "\n",
        "Std. Error: These values indicate the variability of the coefficient estimates. For the intercept, it's about 1.60. For wt and hp, the standard errors are roughly 0.63 and 0.01, respectively.\n",
        "\n",
        "t value: These values show the ratio of the estimated coefficient to its standard error. Higher t-values suggest stronger evidence against the null hypothesis. For the intercept, it's about 23.28. For wt and hp, the t-values are approximately -6.13 and -3.52, respectively.\n",
        "\n",
        "Pr(>|t|): These p-values indicate the probability of observing the calculated t-value if the null hypothesis (no effect of the predictor) is true. All p-values are very small (close to zero), suggesting strong evidence against the null hypothesis.\n",
        "\n",
        "In essence, the output summarizes the strength and significance of the relationships between the predictors (wt and hp) and the response variable (mpg, miles per gallon) in the linear model."
      ]
    },
    {
      "cell_type": "code",
      "execution_count": null,
      "metadata": {
        "id": "FvlIUCDpTi2y"
      },
      "outputs": [],
      "source": [
        "# Sample data - replace this with your actual data loading or creation process\n",
        "train_data <- data.frame(\n",
        "  ID = 1:5,\n",
        "  Feature1 = sample(1:100, 5),\n",
        "  Outcome = sample(c(\"Yes\", \"No\"), 5, replace = TRUE)\n",
        ")\n",
        "\n",
        "test_data <- data.frame(\n",
        "  ID = 6:10,\n",
        "  Feature1 = sample(1:100, 5),\n",
        "  Outcome = sample(c(\"Yes\", \"No\"), 5, replace = TRUE)\n",
        ")\n",
        "\n",
        "\n"
      ]
    },
    {
      "cell_type": "code",
      "execution_count": null,
      "metadata": {
        "id": "xPB2o5Ty3ArT"
      },
      "outputs": [],
      "source": [
        "# Assuming train_data and test_data need to be explicitly cast to data frames\n",
        "train_df <- data.frame(train_data)\n",
        "test_df <- data.frame(test_data)\n"
      ]
    },
    {
      "cell_type": "markdown",
      "source": [
        "The knitr package in R is a powerful tool for dynamic report generation. It allows you to integrate R code with documentation (in formats like HTML, PDF, or Word) so that the code can be executed and the results are directly embedded into the report."
      ],
      "metadata": {
        "id": "zI3C3ZGE59Kl"
      }
    },
    {
      "cell_type": "code",
      "execution_count": null,
      "metadata": {
        "colab": {
          "base_uri": "https://localhost:8080/",
          "height": 400
        },
        "id": "xDZvmD6v3DQb",
        "outputId": "9538057d-bff1-4f6d-9858-5d4e09dfc97f"
      },
      "outputs": [
        {
          "name": "stdout",
          "output_type": "stream",
          "text": [
            "Training Data:\n"
          ]
        },
        {
          "data": {
            "text/plain": [
              "\n",
              "\n",
              "| ID| Feature1|Outcome |\n",
              "|--:|--------:|:-------|\n",
              "|  1|       24|Yes     |\n",
              "|  2|       92|Yes     |\n",
              "|  3|       18|Yes     |\n",
              "|  4|       81|Yes     |\n",
              "|  5|       84|No      |"
            ]
          },
          "metadata": {},
          "output_type": "display_data"
        },
        {
          "name": "stdout",
          "output_type": "stream",
          "text": [
            "\n",
            "Testing Data:\n"
          ]
        },
        {
          "data": {
            "text/plain": [
              "\n",
              "\n",
              "| ID| Feature1|Outcome |\n",
              "|--:|--------:|:-------|\n",
              "|  6|        8|No      |\n",
              "|  7|        5|No      |\n",
              "|  8|       29|Yes     |\n",
              "|  9|       50|Yes     |\n",
              "| 10|       70|Yes     |"
            ]
          },
          "metadata": {},
          "output_type": "display_data"
        }
      ],
      "source": [
        "library(knitr)\n",
        "\n",
        "# Display training set as table\n",
        "cat(\"Training Data:\\n\")\n",
        "kable(head(train_df))\n",
        "\n",
        "# Display testing set as table\n",
        "cat(\"\\nTesting Data:\\n\")\n",
        "kable(head(test_df))\n"
      ]
    },
    {
      "cell_type": "markdown",
      "metadata": {
        "id": "NgsyMZbvFuYH"
      },
      "source": [
        "In the provided code, kable() is used to convert the first few rows of the train_df and test_df data frames into Markdown tables and then passed to cat() for printing."
      ]
    },
    {
      "cell_type": "code",
      "execution_count": null,
      "metadata": {
        "colab": {
          "base_uri": "https://localhost:8080/",
          "height": 347
        },
        "id": "oo6twuAATl9o",
        "outputId": "a5cbb18a-a1c9-4937-a33c-f9240c659a32"
      },
      "outputs": [
        {
          "output_type": "display_data",
          "data": {
            "text/plain": [
              "\n",
              "Call:\n",
              "lm(formula = mpg ~ wt + hp, data = mtcars)\n",
              "\n",
              "Residuals:\n",
              "   Min     1Q Median     3Q    Max \n",
              "-3.941 -1.600 -0.182  1.050  5.854 \n",
              "\n",
              "Coefficients:\n",
              "            Estimate Std. Error t value Pr(>|t|)    \n",
              "(Intercept) 37.22727    1.59879  23.285  < 2e-16 ***\n",
              "wt          -3.87783    0.63273  -6.129 1.12e-06 ***\n",
              "hp          -0.03177    0.00903  -3.519  0.00145 ** \n",
              "---\n",
              "Signif. codes:  0 ‘***’ 0.001 ‘**’ 0.01 ‘*’ 0.05 ‘.’ 0.1 ‘ ’ 1\n",
              "\n",
              "Residual standard error: 2.593 on 29 degrees of freedom\n",
              "Multiple R-squared:  0.8268,\tAdjusted R-squared:  0.8148 \n",
              "F-statistic: 69.21 on 2 and 29 DF,  p-value: 9.109e-12\n"
            ]
          },
          "metadata": {}
        }
      ],
      "source": [
        "# Correct usage with mtcars dataset\n",
        "data(mtcars)\n",
        "fit_model <- lm(mpg ~ wt + hp, data = mtcars)\n",
        "\n",
        "# Summary of the model to check coefficients\n",
        "summary(fit_model)\n",
        "\n",
        "\n"
      ]
    },
    {
      "cell_type": "code",
      "execution_count": null,
      "metadata": {
        "colab": {
          "base_uri": "https://localhost:8080/",
          "height": 34
        },
        "id": "kKIgT6gJ3qSq",
        "outputId": "8ea66038-6a90-4570-8b87-b682beb11066"
      },
      "outputs": [
        {
          "output_type": "display_data",
          "data": {
            "text/html": [
              "<style>\n",
              ".list-inline {list-style: none; margin:0; padding: 0}\n",
              ".list-inline>li {display: inline-block}\n",
              ".list-inline>li:not(:last-child)::after {content: \"\\00b7\"; padding: 0 .5ex}\n",
              "</style>\n",
              "<ol class=list-inline><li>'x'</li><li>'y'</li><li>'z'</li></ol>\n"
            ],
            "text/markdown": "1. 'x'\n2. 'y'\n3. 'z'\n\n\n",
            "text/latex": "\\begin{enumerate*}\n\\item 'x'\n\\item 'y'\n\\item 'z'\n\\end{enumerate*}\n",
            "text/plain": [
              "[1] \"x\" \"y\" \"z\""
            ]
          },
          "metadata": {}
        }
      ],
      "source": [
        "names(data) # This will list all column names in your dataset\n"
      ]
    },
    {
      "cell_type": "code",
      "execution_count": null,
      "metadata": {
        "colab": {
          "base_uri": "https://localhost:8080/",
          "height": 34
        },
        "id": "-NHDecCe3sqp",
        "outputId": "3bf58e1b-fc4a-4c64-cbd1-14e57fb3610b"
      },
      "outputs": [
        {
          "output_type": "display_data",
          "data": {
            "text/html": [
              "<style>\n",
              ".list-inline {list-style: none; margin:0; padding: 0}\n",
              ".list-inline>li {display: inline-block}\n",
              ".list-inline>li:not(:last-child)::after {content: \"\\00b7\"; padding: 0 .5ex}\n",
              "</style>\n",
              "<ol class=list-inline><li>'x'</li><li>'y'</li><li>'z'</li></ol>\n"
            ],
            "text/markdown": "1. 'x'\n2. 'y'\n3. 'z'\n\n\n",
            "text/latex": "\\begin{enumerate*}\n\\item 'x'\n\\item 'y'\n\\item 'z'\n\\end{enumerate*}\n",
            "text/plain": [
              "[1] \"x\" \"y\" \"z\""
            ]
          },
          "metadata": {}
        }
      ],
      "source": [
        "# Check column names in the dataset\n",
        "names(data)\n",
        "\n"
      ]
    },
    {
      "cell_type": "code",
      "execution_count": null,
      "metadata": {
        "colab": {
          "base_uri": "https://localhost:8080/"
        },
        "id": "5Xl8YSfG4g6E",
        "outputId": "74126364-2c79-4f1e-fc8d-4ca0b18601a9"
      },
      "outputs": [
        {
          "output_type": "stream",
          "name": "stderr",
          "text": [
            "Installing package into ‘/usr/local/lib/R/site-library’\n",
            "(as ‘lib’ is unspecified)\n",
            "\n",
            "Installing package into ‘/usr/local/lib/R/site-library’\n",
            "(as ‘lib’ is unspecified)\n",
            "\n"
          ]
        }
      ],
      "source": [
        "install.packages(\"dplyr\")\n",
        "library(dplyr)\n",
        "\n",
        "# OR for just tibble, which is a lighter dependency\n",
        "install.packages(\"tibble\")\n",
        "library(tibble)\n"
      ]
    },
    {
      "cell_type": "code",
      "execution_count": null,
      "metadata": {
        "colab": {
          "base_uri": "https://localhost:8080/"
        },
        "id": "tYBRC93j4kpX",
        "outputId": "94dcac17-0653-4e95-8432-c0ca3ee35555"
      },
      "outputs": [
        {
          "name": "stdout",
          "output_type": "stream",
          "text": [
            "Rows: 100\n",
            "Columns: 3\n",
            "$ x \u001b[3m\u001b[90m<dbl>\u001b[39m\u001b[23m -0.56047565, -0.23017749, 1.55870831, 0.07050839, 0.12928774, 1.7150…\n",
            "$ y \u001b[3m\u001b[90m<dbl>\u001b[39m\u001b[23m 0.9343902, 2.3853256, 1.6299622, 1.4786861, 0.5725721, 1.9324584, 0.…\n",
            "$ z \u001b[3m\u001b[90m<int>\u001b[39m\u001b[23m 7, 1, 5, 3, 2, 3, 4, 1, 2, 4, 2, 5, 2, 3, 2, 1, 6, 2, 3, 0, 3, 3, 3,…\n"
          ]
        }
      ],
      "source": [
        "glimpse(data)\n"
      ]
    },
    {
      "cell_type": "code",
      "execution_count": null,
      "metadata": {
        "id": "h-DcAq7O4FzK"
      },
      "outputs": [],
      "source": [
        "# Fit the linear model using the correct column names\n",
        "fit_model <- lm(y ~ x + z, data = data)\n",
        "\n"
      ]
    },
    {
      "cell_type": "code",
      "execution_count": null,
      "metadata": {
        "colab": {
          "base_uri": "https://localhost:8080/",
          "height": 363
        },
        "id": "HembZmlG48Nk",
        "outputId": "74934772-bb68-4db1-f944-efd2e54b981e"
      },
      "outputs": [
        {
          "data": {
            "text/plain": [
              "\n",
              "Call:\n",
              "lm(formula = y ~ x + z, data = data)\n",
              "\n",
              "Residuals:\n",
              "    Min      1Q  Median      3Q     Max \n",
              "-2.7749 -1.0832 -0.1107  0.9118  5.1079 \n",
              "\n",
              "Coefficients:\n",
              "            Estimate Std. Error t value Pr(>|t|)    \n",
              "(Intercept)  1.58646    0.28751   5.518 2.85e-07 ***\n",
              "x           -0.07895    0.16024  -0.493    0.623    \n",
              "z            0.08674    0.08279   1.048    0.297    \n",
              "---\n",
              "Signif. codes:  0 ‘***’ 0.001 ‘**’ 0.01 ‘*’ 0.05 ‘.’ 0.1 ‘ ’ 1\n",
              "\n",
              "Residual standard error: 1.455 on 97 degrees of freedom\n",
              "Multiple R-squared:  0.01362,\tAdjusted R-squared:  -0.006723 \n",
              "F-statistic: 0.6694 on 2 and 97 DF,  p-value: 0.5143\n"
            ]
          },
          "metadata": {},
          "output_type": "display_data"
        }
      ],
      "source": [
        "# Fit the linear model with the correct column names\n",
        "fit_model <- lm(y ~ x + z, data = data)\n",
        "\n",
        "# Summary of the model to check coefficients\n",
        "summary(fit_model)\n"
      ]
    },
    {
      "cell_type": "code",
      "execution_count": null,
      "metadata": {
        "colab": {
          "base_uri": "https://localhost:8080/"
        },
        "id": "RkcpOL4t6dkx",
        "outputId": "8d52edfc-65ae-4aab-d758-2e919543147a"
      },
      "outputs": [
        {
          "name": "stdout",
          "output_type": "stream",
          "text": [
            "'data.frame':\t5 obs. of  3 variables:\n",
            " $ ID      : int  1 2 3 4 5\n",
            " $ Feature1: int  24 92 18 81 84\n",
            " $ Outcome : chr  \"Yes\" \"Yes\" \"Yes\" \"Yes\" ...\n",
            "'data.frame':\t5 obs. of  3 variables:\n",
            " $ ID      : int  6 7 8 9 10\n",
            " $ Feature1: int  8 5 29 50 70\n",
            " $ Outcome : chr  \"No\" \"No\" \"Yes\" \"Yes\" ...\n"
          ]
        }
      ],
      "source": [
        "# Check the structure of train_data\n",
        "str(train_data)\n",
        "\n",
        "# Check the structure of test_data\n",
        "str(test_data)\n",
        "\n"
      ]
    },
    {
      "cell_type": "markdown",
      "metadata": {
        "id": "PxlxGrG1eWGr"
      },
      "source": [
        "str() stands for \"structure\" and is used to display the structure of an R object."
      ]
    },
    {
      "cell_type": "code",
      "execution_count": null,
      "metadata": {
        "colab": {
          "base_uri": "https://localhost:8080/"
        },
        "id": "L6OdGtJBT9cM",
        "outputId": "89c879f7-bb7b-4bc1-f7f7-b9c4492d09e8"
      },
      "outputs": [
        {
          "name": "stdout",
          "output_type": "stream",
          "text": [
            "tibble [100 × 3] (S3: tbl_df/tbl/data.frame)\n",
            " $ x: num [1:100] -0.5605 -0.2302 1.5587 0.0705 0.1293 ...\n",
            " $ y: num [1:100] 0.934 2.385 1.63 1.479 0.573 ...\n",
            " $ z: int [1:100] 7 1 5 3 2 3 4 1 2 4 ...\n"
          ]
        }
      ],
      "source": [
        "# Check the structure of the data used for plotting\n",
        "str(data)\n"
      ]
    },
    {
      "cell_type": "code",
      "execution_count": null,
      "metadata": {
        "colab": {
          "base_uri": "https://localhost:8080/",
          "height": 437
        },
        "id": "t1dmbauwT09n",
        "outputId": "589bc79e-b555-48b1-d337-209aad30850b"
      },
      "outputs": [
        {
          "data": {
            "image/png": "[encoded data removed]",
            "text/plain": [
              "Plot with title “Correlation Test Results”"
            ]
          },
          "metadata": {
            "image/png": {
              "height": 420,
              "width": 420
            }
          },
          "output_type": "display_data"
        }
      ],
      "source": [
        "# Plot the correlation test results as a bar plot\n",
        "barplot(cor_test$estimate, main = \"Correlation Test Results\", names.arg = \"Correlation Coefficient\", ylim = range(c(0, 1)))\n",
        "abline(h = c(-1, 1), lty = 2)\n",
        "\n"
      ]
    },
    {
      "cell_type": "code",
      "execution_count": null,
      "metadata": {
        "colab": {
          "base_uri": "https://localhost:8080/",
          "height": 437
        },
        "id": "H5u4DllxULje",
        "outputId": "63540915-a33f-449d-808f-2dca0a5c6f01"
      },
      "outputs": [
        {
          "data": {
            "image/png": "[encoded data removed]",
            "text/plain": [
              "Plot with title “Linear Regression”"
            ]
          },
          "metadata": {
            "image/png": {
              "height": 420,
              "width": 420
            }
          },
          "output_type": "display_data"
        }
      ],
      "source": [
        "# Fit a linear regression model to predict y using x\n",
        "lm_model <- lm(y ~ x, data = data)\n",
        "\n",
        "# Plot the linear regression model\n",
        "plot(data$x, data$y, main = \"Linear Regression\", xlab = \"x\", ylab = \"y\")\n",
        "abline(lm_model, col = \"red\")\n"
      ]
    },
    {
      "cell_type": "code",
      "execution_count": null,
      "metadata": {
        "colab": {
          "base_uri": "https://localhost:8080/",
          "height": 86
        },
        "id": "MgSzK0lx5LZH",
        "outputId": "5768c61d-1e26-4f8d-ffe8-697082c16a95"
      },
      "outputs": [
        {
          "data": {
            "text/html": [
              "FALSE"
            ],
            "text/latex": "FALSE",
            "text/markdown": "FALSE",
            "text/plain": [
              "[1] FALSE"
            ]
          },
          "metadata": {},
          "output_type": "display_data"
        },
        {
          "data": {
            "text/html": [
              "FALSE"
            ],
            "text/latex": "FALSE",
            "text/markdown": "FALSE",
            "text/plain": [
              "[1] FALSE"
            ]
          },
          "metadata": {},
          "output_type": "display_data"
        },
        {
          "data": {
            "text/html": [
              "FALSE"
            ],
            "text/latex": "FALSE",
            "text/markdown": "FALSE",
            "text/plain": [
              "[1] FALSE"
            ]
          },
          "metadata": {},
          "output_type": "display_data"
        },
        {
          "data": {
            "text/html": [
              "FALSE"
            ],
            "text/latex": "FALSE",
            "text/markdown": "FALSE",
            "text/plain": [
              "[1] FALSE"
            ]
          },
          "metadata": {},
          "output_type": "display_data"
        }
      ],
      "source": [
        "anyNA(train_data$x)\n",
        "anyNA(train_data$y)\n",
        "\n",
        "any(is.infinite(train_data$x))\n",
        "any(is.infinite(train_data$y))\n"
      ]
    },
    {
      "cell_type": "code",
      "execution_count": null,
      "metadata": {
        "id": "YnwepmQQ5Ogb"
      },
      "outputs": [],
      "source": [
        "# Remove observations with missing values\n",
        "train_data <- train_data[complete.cases(train_data), ]\n"
      ]
    },
    {
      "cell_type": "code",
      "execution_count": null,
      "metadata": {
        "colab": {
          "base_uri": "https://localhost:8080/",
          "height": 437
        },
        "id": "j-M3A9Q65Rde",
        "outputId": "c40a0471-aad5-4934-8273-c1858aac15a6"
      },
      "outputs": [
        {
          "data": {
            "image/png": "[encoded data removed]",
            "text/plain": [
              "Plot with title “Predictive Model - Linear Regression”"
            ]
          },
          "metadata": {
            "image/png": {
              "height": 420,
              "width": 420
            }
          },
          "output_type": "display_data"
        }
      ],
      "source": [
        "# Train a linear regression model\n",
        "predictive_model <- lm(y ~ x, data = na.omit(train_data))\n",
        "\n",
        "# Plot the training data with the linear regression line\n",
        "with(na.omit(train_data), {\n",
        "  plot(x, y, main = \"Predictive Model - Linear Regression\", xlab = \"x\", ylab = \"y\")\n",
        "  abline(predictive_model, col = \"blue\")\n",
        "})\n",
        "\n"
      ]
    },
    {
      "cell_type": "code",
      "execution_count": null,
      "metadata": {
        "colab": {
          "base_uri": "https://localhost:8080/"
        },
        "id": "aoypxPXe90nj",
        "outputId": "96ccca5a-c5ec-4977-afa9-5409537b77d7"
      },
      "outputs": [
        {
          "name": "stdout",
          "output_type": "stream",
          "text": [
            "Rows: 100\n",
            "Columns: 3\n",
            "$ x \u001b[3m\u001b[90m<dbl>\u001b[39m\u001b[23m -0.56047565, -0.23017749, 1.55870831, 0.07050839, 0.12928774, 1.7150…\n",
            "$ y \u001b[3m\u001b[90m<dbl>\u001b[39m\u001b[23m 0.9343902, 2.3853256, 1.6299622, 1.4786861, 0.5725721, 1.9324584, 0.…\n",
            "$ z \u001b[3m\u001b[90m<int>\u001b[39m\u001b[23m 7, 1, 5, 3, 2, 3, 4, 1, 2, 4, 2, 5, 2, 3, 2, 1, 6, 2, 3, 0, 3, 3, 3,…\n"
          ]
        }
      ],
      "source": [
        "# Get a brief overview of the dataset's structure\n",
        "glimpse(data)"
      ]
    },
    {
      "cell_type": "code",
      "execution_count": null,
      "metadata": {
        "colab": {
          "base_uri": "https://localhost:8080/"
        },
        "id": "I330a_Vd99vC",
        "outputId": "9c3684c3-1606-4033-9620-ce8a921a216e"
      },
      "outputs": [
        {
          "name": "stdout",
          "output_type": "stream",
          "text": [
            "         1          2          3          4          5          6          7 \n",
            "0.07957438 0.07733067 0.06517876 0.07528811 0.07488882 0.06411663 0.07263607 \n",
            "         8          9         10         11         12         13         14 \n",
            "0.08436064 0.08043286 0.07879445 0.06745188 0.07332286 0.07304463 0.07501520 \n",
            "        15         16         17         18         19         20         21 \n",
            "0.07954290 0.06362857 0.07238517 0.08912631 0.07100276 0.07897874 0.08302080 \n",
            "        22         23         24         25         26         27         28 \n",
            "0.07724778 0.08273672 0.08071843 0.08001297 0.08722478 0.07007598 0.07472521 \n",
            "        29         30         31         32         33         34         35 \n",
            "0.08349844 0.06724990 0.07287010 0.07777149 0.06968648 0.06980191 0.07018607 \n",
            "        36         37         38         39         40         41         42 \n",
            "0.07108914 0.07200431 0.07618764 0.07784548 0.07835161 0.08048622 0.07717945 \n",
            "        43         44         45         46         47         48         49 \n",
            "0.08436291 0.06103335 0.06756138 0.08339635 0.07850387 0.07893706 0.07046877 \n",
            "        50         51         52         53         54         55         56 \n",
            "0.07633340 0.07404628 0.07596099 0.07605829 0.06647015 0.07730073 0.06546568 \n",
            "        57         58         59         60         61         62         63 \n",
            "0.08628775 0.07179579 0.07492573 0.07430018 0.07318818 0.07917936 0.07803055 \n",
            "        64         65         66         67         68         69         70 \n",
            "0.08268626 0.08304775 0.07370520 0.07272238 0.07540701 0.06950211 0.06184084 \n",
            "        71         72         73         74         75         76         77 \n",
            "0.07910265 0.09145326 0.06893509 0.08058467 0.08044072 0.06880036 0.07770154 \n",
            "        78         79         80         81         82         83         84 \n",
            "0.08405941 0.07453548 0.07671056 0.07572792 0.07314986 0.07828497 0.07138982 \n",
            "        85         86         87         88         89         90         91 \n",
            "0.07726484 0.07351328 0.06831624 0.07281088 0.07798113 0.06796322 0.06901820 \n",
            "        92         93         94         95         96         97         98 \n",
            "0.07204181 0.07414537 0.08003244 0.06652416 0.07984464 0.06090851 0.06535604 \n",
            "        99        100 \n",
            "0.07736818 0.08273955 \n"
          ]
        }
      ],
      "source": [
        "# Assuming 'predictive_model' is your model and 'data' is your dataset\n",
        "predictions <- predict(predictive_model, newdata = data)\n",
        "\n",
        "# Display the predictions\n",
        "print(predictions)"
      ]
    },
    {
      "cell_type": "code",
      "execution_count": null,
      "metadata": {
        "colab": {
          "base_uri": "https://localhost:8080/"
        },
        "id": "Dw1qMcSE-Fza",
        "outputId": "6ad8c047-88bc-4e09-ab7d-36d536bf6ef9"
      },
      "outputs": [
        {
          "name": "stdout",
          "output_type": "stream",
          "text": [
            "[1] 0.8363783\n"
          ]
        }
      ],
      "source": [
        "# Assuming 'data' is your dataset\n",
        "# Extracting the actual values from the dataset\n",
        "actual_values <- data$x  # Assuming 'x' contains the actual values\n",
        "\n",
        "# Calculate the squared differences\n",
        "squared_diff <- (actual_values - predictions)^2\n",
        "\n",
        "# Calculate the mean squared error (MSE)\n",
        "mse <- mean(squared_diff, na.rm = TRUE)\n",
        "\n",
        "# Display the MSE\n",
        "print(mse)"
      ]
    },
    {
      "cell_type": "markdown",
      "source": [
        "actual_values <- data$x  # Assuming 'x' contains the actual values\n",
        "\n",
        "This line assumes that your dataset data has a column x, which contains the actual values you are trying to predict. The values of this column are saved in the actual_values vector.\n"
      ],
      "metadata": {
        "id": "5v9r5YgC6cDN"
      }
    },
    {
      "cell_type": "markdown",
      "source": [
        "squared_diff <- (actual_values - predictions)^2\n",
        "\n",
        "The difference between each actual value and its corresponding predicted value is calculated.\n",
        "predictions is a vector containing the predicted values from your model.\n",
        "The difference is squared to eliminate negative values and emphasize larger errors."
      ],
      "metadata": {
        "id": "ALYwrkCB6rs_"
      }
    },
    {
      "cell_type": "markdown",
      "source": [
        "mse <- mean(squared_diff, na.rm = TRUE)\n",
        "\n",
        "\n",
        "The MSE is calculated as the average of the squared differences (squared_diff). The function mean() computes the average, and na.rm = TRUE ensures that missing values (if any) are ignored during the calculation.\n"
      ],
      "metadata": {
        "id": "n1cL3KDV69y0"
      }
    },
    {
      "cell_type": "markdown",
      "source": [
        "The MSE is a measure of the average squared difference between the actual and predicted values. It tells you how far off your predictions are from the actual values, with larger values indicating poorer performance.\n",
        "\n",
        "\n"
      ],
      "metadata": {
        "id": "VTmfZGYG7fq5"
      }
    }
  ],
  "metadata": {
    "colab": {
      "provenance": [],
      "include_colab_link": true
    },
    "kernelspec": {
      "display_name": "R",
      "name": "ir"
    },
    "language_info": {
      "name": "R"
    }
  },
  "nbformat": 4,
  "nbformat_minor": 0
}
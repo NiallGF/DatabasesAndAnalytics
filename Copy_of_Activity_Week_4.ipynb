{
  "cells": [
    {
      "cell_type": "markdown",
      "metadata": {
        "colab_type": "text",
        "id": "view-in-github"
      },
      "source": [
        "<a href=\"https://colab.research.google.com/github/NiallGF/DatabasesAndAnalytics/blob/main/Copy_of_Activity_Week_4.ipynb\" target=\"_parent\"><img src=\"https://colab.research.google.com/assets/colab-badge.svg\" alt=\"Open In Colab\"/></a>"
      ]
    },
    {
      "cell_type": "markdown",
      "metadata": {
        "id": "ShYV8_SmW1Aa"
      },
      "source": [
        "Class Identification Exercise:\n",
        "\n",
        "Create a vector named animals containing the names of three different animals.\n",
        "Use the class() function to identify the class of animals.\n",
        "What class do animals belong to?"
      ]
    },
    {
      "cell_type": "code",
      "execution_count": null,
      "metadata": {
        "colab": {
          "base_uri": "https://localhost:8080/",
          "height": 34
        },
        "id": "XfyNW1cLW0Iz",
        "outputId": "d13bb894-60f3-413d-cb7f-b2b01d9f8492"
      },
      "outputs": [
        {
          "data": {
            "text/html": [
              "'character'"
            ],
            "text/latex": [
              "'character'"
            ],
            "text/markdown": [
              "'character'"
            ],
            "text/plain": [
              "[1] \"character\""
            ]
          },
          "metadata": {},
          "output_type": "display_data"
        }
      ],
      "source": [
        "animals <- c(\"cat\", \"dog\", \"chicken\")\n",
        "class(animals)"
      ]
    },
    {
      "cell_type": "markdown",
      "metadata": {
        "id": "6t9FaBmfXOpv"
      },
      "source": [
        "Define two vectors: numbers1 with the numbers 1 to 3 and numbers2 with the numbers 4 to 6.\n",
        "Use the c() function to combine the two vectors into a single vector named all_numbers.\n",
        "Print all_numbers to verify the combination."
      ]
    },
    {
      "cell_type": "code",
      "execution_count": null,
      "metadata": {
        "colab": {
          "base_uri": "https://localhost:8080/"
        },
        "id": "SF3URttwXrlW",
        "outputId": "4f57b835-2e20-4e1b-a19d-b7426a939759"
      },
      "outputs": [
        {
          "name": "stdout",
          "output_type": "stream",
          "text": [
            "[1] 1 2 3 4 5 6\n"
          ]
        }
      ],
      "source": [
        "numbers1 <- c(1,2,3)\n",
        "numbers2 <- c(4,5,6)\n",
        "all_numbers <- c(numbers1, numbers2)\n",
        "\n",
        "print(all_numbers)"
      ]
    },
    {
      "cell_type": "markdown",
      "metadata": {
        "id": "eRbZonRUX7kK"
      },
      "source": [
        "Create a vector called temperatures containing the temperatures of a location for a week (e.g., 25, 28, 30, 27, 29, 26, 31).\n",
        "Use the typeof() function to determine the data type of temperatures.\n",
        "What data type is temperatures?"
      ]
    },
    {
      "cell_type": "code",
      "execution_count": null,
      "metadata": {
        "colab": {
          "base_uri": "https://localhost:8080/",
          "height": 52
        },
        "id": "tnpH05EoX9sH",
        "outputId": "012e4baf-acc0-408f-f17f-7f67671a0cc9"
      },
      "outputs": [
        {
          "data": {
            "text/html": [
              "'numeric'"
            ],
            "text/latex": [
              "'numeric'"
            ],
            "text/markdown": [
              "'numeric'"
            ],
            "text/plain": [
              "[1] \"numeric\""
            ]
          },
          "metadata": {},
          "output_type": "display_data"
        },
        {
          "data": {
            "text/html": [
              "'double'"
            ],
            "text/latex": [
              "'double'"
            ],
            "text/markdown": [
              "'double'"
            ],
            "text/plain": [
              "[1] \"double\""
            ]
          },
          "metadata": {},
          "output_type": "display_data"
        }
      ],
      "source": [
        "temperatures <- c(25,28,30,27,29,26,31)\n",
        "class(temperatures)\n",
        "typeof(temperatures)"
      ]
    },
    {
      "cell_type": "markdown",
      "metadata": {
        "id": "deTTG5EiX-HP"
      },
      "source": [
        "Suppose two more animals are added to the animals vector: \"elephant\" and \"tiger\".\n",
        "Remove the second animal from the animals vector.\n",
        "Print the modified animals vector to verify the removal."
      ]
    },
    {
      "cell_type": "code",
      "execution_count": null,
      "metadata": {
        "colab": {
          "base_uri": "https://localhost:8080/",
          "height": 34
        },
        "id": "IQ1-clMEarKb",
        "outputId": "271f5cf0-66d1-4649-f26e-abff079f8517"
      },
      "outputs": [
        {
          "data": {
            "text/html": [
              "<style>\n",
              ".list-inline {list-style: none; margin:0; padding: 0}\n",
              ".list-inline>li {display: inline-block}\n",
              ".list-inline>li:not(:last-child)::after {content: \"\\00b7\"; padding: 0 .5ex}\n",
              "</style>\n",
              "<ol class=list-inline><li>'cat'</li><li>'chicken'</li><li>'elephant'</li><li>'tiger'</li><li>'elephant'</li><li>'tiger'</li></ol>\n"
            ],
            "text/latex": [
              "\\begin{enumerate*}\n",
              "\\item 'cat'\n",
              "\\item 'chicken'\n",
              "\\item 'elephant'\n",
              "\\item 'tiger'\n",
              "\\item 'elephant'\n",
              "\\item 'tiger'\n",
              "\\end{enumerate*}\n"
            ],
            "text/markdown": [
              "1. 'cat'\n",
              "2. 'chicken'\n",
              "3. 'elephant'\n",
              "4. 'tiger'\n",
              "5. 'elephant'\n",
              "6. 'tiger'\n",
              "\n",
              "\n"
            ],
            "text/plain": [
              "[1] \"cat\"      \"chicken\"  \"elephant\" \"tiger\"    \"elephant\" \"tiger\"   "
            ]
          },
          "metadata": {},
          "output_type": "display_data"
        }
      ],
      "source": [
        "animals <- c(animals, \"elephant\", \"tiger\")\n",
        "animals <- animals[-2]\n",
        "animals"
      ]
    },
    {
      "cell_type": "code",
      "execution_count": null,
      "metadata": {
        "id": "MNLTILGObD3H"
      },
      "outputs": [],
      "source": [
        "crisps <- c(\"crunchy\")\n",
        "crisps(class)"
      ]
    },
    {
      "cell_type": "code",
      "execution_count": 1,
      "metadata": {},
      "outputs": [
        {
          "ename": "NameError",
          "evalue": "name 'install' is not defined",
          "output_type": "error",
          "traceback": [
            "\u001b[0;31m---------------------------------------------------------------------------\u001b[0m",
            "\u001b[0;31mNameError\u001b[0m                                 Traceback (most recent call last)",
            "Cell \u001b[0;32mIn[1], line 1\u001b[0m\n\u001b[0;32m----> 1\u001b[0m \u001b[43minstall\u001b[49m\u001b[38;5;241m.\u001b[39mpackages(\u001b[38;5;124m\"\u001b[39m\u001b[38;5;124mlanguageserver\u001b[39m\u001b[38;5;124m\"\u001b[39m)\n",
            "\u001b[0;31mNameError\u001b[0m: name 'install' is not defined"
          ]
        }
      ],
      "source": [
        "install.packages(\"languageserver\")"
      ]
    },
    {
      "cell_type": "code",
      "execution_count": null,
      "metadata": {},
      "outputs": [],
      "source": []
    }
  ],
  "metadata": {
    "accelerator": "GPU",
    "colab": {
      "gpuType": "T4",
      "include_colab_link": true,
      "provenance": []
    },
    "kernelspec": {
      "display_name": "Python 3 (ipykernel)",
      "language": "python",
      "name": "python3"
    }
  },
  "nbformat": 4,
  "nbformat_minor": 0
}

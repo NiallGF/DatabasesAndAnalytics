{
  "nbformat": 4,
  "nbformat_minor": 0,
  "metadata": {
    "colab": {
      "provenance": [],
      "gpuType": "T4",
      "include_colab_link": true
    },
    "kernelspec": {
      "name": "ir",
      "display_name": "R"
    },
    "language_info": {
      "name": "R"
    },
    "accelerator": "GPU"
  },
  "cells": [
    {
      "cell_type": "markdown",
      "metadata": {
        "id": "view-in-github",
        "colab_type": "text"
      },
      "source": [
        "<a href=\"https://colab.research.google.com/github/NiallGF/DatabasesAndAnalytics/blob/main/Copy_of_Activity_Week_4.ipynb\" target=\"_parent\"><img src=\"https://colab.research.google.com/assets/colab-badge.svg\" alt=\"Open In Colab\"/></a>"
      ]
    },
    {
      "cell_type": "markdown",
      "source": [
        "Class Identification Exercise:\n",
        "\n",
        "Create a vector named animals containing the names of three different animals.\n",
        "Use the class() function to identify the class of animals.\n",
        "What class do animals belong to?"
      ],
      "metadata": {
        "id": "ShYV8_SmW1Aa"
      }
    },
    {
      "cell_type": "code",
      "execution_count": null,
      "metadata": {
        "id": "XfyNW1cLW0Iz",
        "outputId": "d13bb894-60f3-413d-cb7f-b2b01d9f8492",
        "colab": {
          "base_uri": "https://localhost:8080/",
          "height": 34
        }
      },
      "outputs": [
        {
          "output_type": "display_data",
          "data": {
            "text/html": [
              "'character'"
            ],
            "text/markdown": "'character'",
            "text/latex": "'character'",
            "text/plain": [
              "[1] \"character\""
            ]
          },
          "metadata": {}
        }
      ],
      "source": [
        "animals <- c(\"cat\", \"dog\", \"chicken\")\n",
        "class(animals)"
      ]
    },
    {
      "cell_type": "markdown",
      "source": [
        "Define two vectors: numbers1 with the numbers 1 to 3 and numbers2 with the numbers 4 to 6.\n",
        "Use the c() function to combine the two vectors into a single vector named all_numbers.\n",
        "Print all_numbers to verify the combination."
      ],
      "metadata": {
        "id": "6t9FaBmfXOpv"
      }
    },
    {
      "cell_type": "code",
      "source": [
        "numbers1 <- c(1,2,3)\n",
        "numbers2 <- c(4,5,6)\n",
        "all_numbers <- c(numbers1, numbers2)\n",
        "\n",
        "print(all_numbers)"
      ],
      "metadata": {
        "id": "SF3URttwXrlW",
        "outputId": "4f57b835-2e20-4e1b-a19d-b7426a939759",
        "colab": {
          "base_uri": "https://localhost:8080/"
        }
      },
      "execution_count": null,
      "outputs": [
        {
          "output_type": "stream",
          "name": "stdout",
          "text": [
            "[1] 1 2 3 4 5 6\n"
          ]
        }
      ]
    },
    {
      "cell_type": "markdown",
      "source": [
        "Create a vector called temperatures containing the temperatures of a location for a week (e.g., 25, 28, 30, 27, 29, 26, 31).\n",
        "Use the typeof() function to determine the data type of temperatures.\n",
        "What data type is temperatures?"
      ],
      "metadata": {
        "id": "eRbZonRUX7kK"
      }
    },
    {
      "cell_type": "code",
      "source": [
        "temperatures <- c(25,28,30,27,29,26,31)\n",
        "class(temperatures)\n",
        "typeof(temperatures)"
      ],
      "metadata": {
        "id": "tnpH05EoX9sH",
        "outputId": "012e4baf-acc0-408f-f17f-7f67671a0cc9",
        "colab": {
          "base_uri": "https://localhost:8080/",
          "height": 52
        }
      },
      "execution_count": null,
      "outputs": [
        {
          "output_type": "display_data",
          "data": {
            "text/html": [
              "'numeric'"
            ],
            "text/markdown": "'numeric'",
            "text/latex": "'numeric'",
            "text/plain": [
              "[1] \"numeric\""
            ]
          },
          "metadata": {}
        },
        {
          "output_type": "display_data",
          "data": {
            "text/html": [
              "'double'"
            ],
            "text/markdown": "'double'",
            "text/latex": "'double'",
            "text/plain": [
              "[1] \"double\""
            ]
          },
          "metadata": {}
        }
      ]
    },
    {
      "cell_type": "markdown",
      "source": [
        "Suppose two more animals are added to the animals vector: \"elephant\" and \"tiger\".\n",
        "Remove the second animal from the animals vector.\n",
        "Print the modified animals vector to verify the removal."
      ],
      "metadata": {
        "id": "deTTG5EiX-HP"
      }
    },
    {
      "cell_type": "code",
      "source": [
        "animals <- c(animals, \"elephant\", \"tiger\")\n",
        "animals <- animals[-2]\n",
        "animals"
      ],
      "metadata": {
        "id": "IQ1-clMEarKb",
        "outputId": "271f5cf0-66d1-4649-f26e-abff079f8517",
        "colab": {
          "base_uri": "https://localhost:8080/",
          "height": 34
        }
      },
      "execution_count": null,
      "outputs": [
        {
          "output_type": "display_data",
          "data": {
            "text/html": [
              "<style>\n",
              ".list-inline {list-style: none; margin:0; padding: 0}\n",
              ".list-inline>li {display: inline-block}\n",
              ".list-inline>li:not(:last-child)::after {content: \"\\00b7\"; padding: 0 .5ex}\n",
              "</style>\n",
              "<ol class=list-inline><li>'cat'</li><li>'chicken'</li><li>'elephant'</li><li>'tiger'</li><li>'elephant'</li><li>'tiger'</li></ol>\n"
            ],
            "text/markdown": "1. 'cat'\n2. 'chicken'\n3. 'elephant'\n4. 'tiger'\n5. 'elephant'\n6. 'tiger'\n\n\n",
            "text/latex": "\\begin{enumerate*}\n\\item 'cat'\n\\item 'chicken'\n\\item 'elephant'\n\\item 'tiger'\n\\item 'elephant'\n\\item 'tiger'\n\\end{enumerate*}\n",
            "text/plain": [
              "[1] \"cat\"      \"chicken\"  \"elephant\" \"tiger\"    \"elephant\" \"tiger\"   "
            ]
          },
          "metadata": {}
        }
      ]
    },
    {
      "cell_type": "code",
      "source": [],
      "metadata": {
        "id": "MNLTILGObD3H"
      },
      "execution_count": null,
      "outputs": []
    }
  ]
}